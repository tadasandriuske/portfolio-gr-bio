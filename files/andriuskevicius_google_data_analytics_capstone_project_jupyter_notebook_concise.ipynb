{
 "cells": [
  {
   "cell_type": "markdown",
   "id": "b027954f",
   "metadata": {},
   "source": [
    "<h1>Data Exploration and Cleaning</h1>"
   ]
  },
  {
   "cell_type": "code",
   "execution_count": 1,
   "id": "c6d771f3",
   "metadata": {},
   "outputs": [],
   "source": [
    "import pandas"
   ]
  },
  {
   "cell_type": "markdown",
   "id": "7265a29c",
   "metadata": {},
   "source": [
    "<h2>Daily Activity</h2>"
   ]
  },
  {
   "cell_type": "code",
   "execution_count": 2,
   "id": "54e45372",
   "metadata": {},
   "outputs": [],
   "source": [
    "daily_activity = pandas.read_csv(\"dailyActivity_merged.csv\")"
   ]
  },
  {
   "cell_type": "code",
   "execution_count": 3,
   "id": "be3cf56a",
   "metadata": {
    "scrolled": false
   },
   "outputs": [
    {
     "data": {
      "text/html": [
       "<div>\n",
       "<style scoped>\n",
       "    .dataframe tbody tr th:only-of-type {\n",
       "        vertical-align: middle;\n",
       "    }\n",
       "\n",
       "    .dataframe tbody tr th {\n",
       "        vertical-align: top;\n",
       "    }\n",
       "\n",
       "    .dataframe thead th {\n",
       "        text-align: right;\n",
       "    }\n",
       "</style>\n",
       "<table border=\"1\" class=\"dataframe\">\n",
       "  <thead>\n",
       "    <tr style=\"text-align: right;\">\n",
       "      <th></th>\n",
       "      <th>Id</th>\n",
       "      <th>ActivityDate</th>\n",
       "      <th>TotalSteps</th>\n",
       "      <th>TotalDistance</th>\n",
       "      <th>TrackerDistance</th>\n",
       "      <th>LoggedActivitiesDistance</th>\n",
       "      <th>VeryActiveDistance</th>\n",
       "      <th>ModeratelyActiveDistance</th>\n",
       "      <th>LightActiveDistance</th>\n",
       "      <th>SedentaryActiveDistance</th>\n",
       "      <th>VeryActiveMinutes</th>\n",
       "      <th>FairlyActiveMinutes</th>\n",
       "      <th>LightlyActiveMinutes</th>\n",
       "      <th>SedentaryMinutes</th>\n",
       "      <th>Calories</th>\n",
       "    </tr>\n",
       "  </thead>\n",
       "  <tbody>\n",
       "    <tr>\n",
       "      <th>0</th>\n",
       "      <td>1503960366</td>\n",
       "      <td>4/12/2016</td>\n",
       "      <td>13162</td>\n",
       "      <td>8.50</td>\n",
       "      <td>8.50</td>\n",
       "      <td>0.0</td>\n",
       "      <td>1.88</td>\n",
       "      <td>0.55</td>\n",
       "      <td>6.06</td>\n",
       "      <td>0.0</td>\n",
       "      <td>25</td>\n",
       "      <td>13</td>\n",
       "      <td>328</td>\n",
       "      <td>728</td>\n",
       "      <td>1985</td>\n",
       "    </tr>\n",
       "    <tr>\n",
       "      <th>1</th>\n",
       "      <td>1503960366</td>\n",
       "      <td>4/13/2016</td>\n",
       "      <td>10735</td>\n",
       "      <td>6.97</td>\n",
       "      <td>6.97</td>\n",
       "      <td>0.0</td>\n",
       "      <td>1.57</td>\n",
       "      <td>0.69</td>\n",
       "      <td>4.71</td>\n",
       "      <td>0.0</td>\n",
       "      <td>21</td>\n",
       "      <td>19</td>\n",
       "      <td>217</td>\n",
       "      <td>776</td>\n",
       "      <td>1797</td>\n",
       "    </tr>\n",
       "    <tr>\n",
       "      <th>2</th>\n",
       "      <td>1503960366</td>\n",
       "      <td>4/14/2016</td>\n",
       "      <td>10460</td>\n",
       "      <td>6.74</td>\n",
       "      <td>6.74</td>\n",
       "      <td>0.0</td>\n",
       "      <td>2.44</td>\n",
       "      <td>0.40</td>\n",
       "      <td>3.91</td>\n",
       "      <td>0.0</td>\n",
       "      <td>30</td>\n",
       "      <td>11</td>\n",
       "      <td>181</td>\n",
       "      <td>1218</td>\n",
       "      <td>1776</td>\n",
       "    </tr>\n",
       "    <tr>\n",
       "      <th>3</th>\n",
       "      <td>1503960366</td>\n",
       "      <td>4/15/2016</td>\n",
       "      <td>9762</td>\n",
       "      <td>6.28</td>\n",
       "      <td>6.28</td>\n",
       "      <td>0.0</td>\n",
       "      <td>2.14</td>\n",
       "      <td>1.26</td>\n",
       "      <td>2.83</td>\n",
       "      <td>0.0</td>\n",
       "      <td>29</td>\n",
       "      <td>34</td>\n",
       "      <td>209</td>\n",
       "      <td>726</td>\n",
       "      <td>1745</td>\n",
       "    </tr>\n",
       "    <tr>\n",
       "      <th>4</th>\n",
       "      <td>1503960366</td>\n",
       "      <td>4/16/2016</td>\n",
       "      <td>12669</td>\n",
       "      <td>8.16</td>\n",
       "      <td>8.16</td>\n",
       "      <td>0.0</td>\n",
       "      <td>2.71</td>\n",
       "      <td>0.41</td>\n",
       "      <td>5.04</td>\n",
       "      <td>0.0</td>\n",
       "      <td>36</td>\n",
       "      <td>10</td>\n",
       "      <td>221</td>\n",
       "      <td>773</td>\n",
       "      <td>1863</td>\n",
       "    </tr>\n",
       "  </tbody>\n",
       "</table>\n",
       "</div>"
      ],
      "text/plain": [
       "           Id ActivityDate  TotalSteps  TotalDistance  TrackerDistance  \\\n",
       "0  1503960366    4/12/2016       13162           8.50             8.50   \n",
       "1  1503960366    4/13/2016       10735           6.97             6.97   \n",
       "2  1503960366    4/14/2016       10460           6.74             6.74   \n",
       "3  1503960366    4/15/2016        9762           6.28             6.28   \n",
       "4  1503960366    4/16/2016       12669           8.16             8.16   \n",
       "\n",
       "   LoggedActivitiesDistance  VeryActiveDistance  ModeratelyActiveDistance  \\\n",
       "0                       0.0                1.88                      0.55   \n",
       "1                       0.0                1.57                      0.69   \n",
       "2                       0.0                2.44                      0.40   \n",
       "3                       0.0                2.14                      1.26   \n",
       "4                       0.0                2.71                      0.41   \n",
       "\n",
       "   LightActiveDistance  SedentaryActiveDistance  VeryActiveMinutes  \\\n",
       "0                 6.06                      0.0                 25   \n",
       "1                 4.71                      0.0                 21   \n",
       "2                 3.91                      0.0                 30   \n",
       "3                 2.83                      0.0                 29   \n",
       "4                 5.04                      0.0                 36   \n",
       "\n",
       "   FairlyActiveMinutes  LightlyActiveMinutes  SedentaryMinutes  Calories  \n",
       "0                   13                   328               728      1985  \n",
       "1                   19                   217               776      1797  \n",
       "2                   11                   181              1218      1776  \n",
       "3                   34                   209               726      1745  \n",
       "4                   10                   221               773      1863  "
      ]
     },
     "execution_count": 3,
     "metadata": {},
     "output_type": "execute_result"
    }
   ],
   "source": [
    "daily_activity.head()"
   ]
  },
  {
   "cell_type": "code",
   "execution_count": 4,
   "id": "248b39d7",
   "metadata": {
    "scrolled": false
   },
   "outputs": [
    {
     "data": {
      "text/plain": [
       "Id                            int64\n",
       "ActivityDate                 object\n",
       "TotalSteps                    int64\n",
       "TotalDistance               float64\n",
       "TrackerDistance             float64\n",
       "LoggedActivitiesDistance    float64\n",
       "VeryActiveDistance          float64\n",
       "ModeratelyActiveDistance    float64\n",
       "LightActiveDistance         float64\n",
       "SedentaryActiveDistance     float64\n",
       "VeryActiveMinutes             int64\n",
       "FairlyActiveMinutes           int64\n",
       "LightlyActiveMinutes          int64\n",
       "SedentaryMinutes              int64\n",
       "Calories                      int64\n",
       "dtype: object"
      ]
     },
     "execution_count": 4,
     "metadata": {},
     "output_type": "execute_result"
    }
   ],
   "source": [
    "daily_activity.dtypes"
   ]
  },
  {
   "cell_type": "code",
   "execution_count": 5,
   "id": "881015cf",
   "metadata": {},
   "outputs": [],
   "source": [
    "daily_activity[\"ActivityDate\"] = pandas.to_datetime(daily_activity[\"ActivityDate\"], format = \"%m/%d/%Y\")"
   ]
  },
  {
   "cell_type": "code",
   "execution_count": 6,
   "id": "ce93aa11",
   "metadata": {
    "scrolled": true
   },
   "outputs": [
    {
     "data": {
      "text/plain": [
       "Id                                   int64\n",
       "ActivityDate                datetime64[ns]\n",
       "TotalSteps                           int64\n",
       "TotalDistance                      float64\n",
       "TrackerDistance                    float64\n",
       "LoggedActivitiesDistance           float64\n",
       "VeryActiveDistance                 float64\n",
       "ModeratelyActiveDistance           float64\n",
       "LightActiveDistance                float64\n",
       "SedentaryActiveDistance            float64\n",
       "VeryActiveMinutes                    int64\n",
       "FairlyActiveMinutes                  int64\n",
       "LightlyActiveMinutes                 int64\n",
       "SedentaryMinutes                     int64\n",
       "Calories                             int64\n",
       "dtype: object"
      ]
     },
     "execution_count": 6,
     "metadata": {},
     "output_type": "execute_result"
    }
   ],
   "source": [
    "daily_activity.dtypes"
   ]
  },
  {
   "cell_type": "code",
   "execution_count": 7,
   "id": "1e079601",
   "metadata": {
    "scrolled": true
   },
   "outputs": [
    {
     "data": {
      "text/plain": [
       "(940, 15)"
      ]
     },
     "execution_count": 7,
     "metadata": {},
     "output_type": "execute_result"
    }
   ],
   "source": [
    "daily_activity.shape"
   ]
  },
  {
   "cell_type": "code",
   "execution_count": 8,
   "id": "f1b668a5",
   "metadata": {
    "scrolled": true
   },
   "outputs": [
    {
     "data": {
      "text/plain": [
       "33"
      ]
     },
     "execution_count": 8,
     "metadata": {},
     "output_type": "execute_result"
    }
   ],
   "source": [
    "len(daily_activity[\"Id\"].unique())"
   ]
  },
  {
   "cell_type": "code",
   "execution_count": 9,
   "id": "637832a3",
   "metadata": {},
   "outputs": [
    {
     "data": {
      "text/plain": [
       "1503960366    31\n",
       "4319703577    31\n",
       "8583815059    31\n",
       "8378563200    31\n",
       "8053475328    31\n",
       "7086361926    31\n",
       "6962181067    31\n",
       "5553957443    31\n",
       "4702921684    31\n",
       "4558609924    31\n",
       "1624580081    31\n",
       "4388161847    31\n",
       "4445114986    31\n",
       "8877689391    31\n",
       "1927972279    31\n",
       "2873212765    31\n",
       "2320127002    31\n",
       "4020332650    31\n",
       "2026352035    31\n",
       "1844505072    31\n",
       "2022484408    31\n",
       "3977333714    30\n",
       "1644430081    30\n",
       "5577150313    30\n",
       "8792009665    29\n",
       "6290855005    29\n",
       "6117666160    28\n",
       "6775888955    26\n",
       "7007744171    26\n",
       "3372868164    20\n",
       "8253242879    19\n",
       "2347167796    18\n",
       "4057192912     4\n",
       "Name: Id, dtype: int64"
      ]
     },
     "execution_count": 9,
     "metadata": {},
     "output_type": "execute_result"
    }
   ],
   "source": [
    "daily_activity[\"Id\"].value_counts()"
   ]
  },
  {
   "cell_type": "code",
   "execution_count": 10,
   "id": "163e6799",
   "metadata": {},
   "outputs": [
    {
     "data": {
      "text/plain": [
       "False"
      ]
     },
     "execution_count": 10,
     "metadata": {},
     "output_type": "execute_result"
    }
   ],
   "source": [
    "daily_activity.isna().values.any()"
   ]
  },
  {
   "cell_type": "code",
   "execution_count": 11,
   "id": "48c49d38",
   "metadata": {
    "scrolled": true
   },
   "outputs": [
    {
     "data": {
      "text/plain": [
       "False"
      ]
     },
     "execution_count": 11,
     "metadata": {},
     "output_type": "execute_result"
    }
   ],
   "source": [
    "daily_activity.duplicated().any()"
   ]
  },
  {
   "cell_type": "code",
   "execution_count": 12,
   "id": "71510b9a",
   "metadata": {
    "scrolled": true
   },
   "outputs": [],
   "source": [
    "daily_activity = daily_activity.loc[:, (\"Id\", \"ActivityDate\", \"TotalSteps\", \"SedentaryMinutes\", \"Calories\")]"
   ]
  },
  {
   "cell_type": "code",
   "execution_count": 13,
   "id": "031fc023",
   "metadata": {},
   "outputs": [],
   "source": [
    "daily_activity_steps = daily_activity.loc[:, (\"Id\", \"ActivityDate\", \"TotalSteps\")]\n",
    "daily_activity_steps[\"ActivityDate\"] = daily_activity_steps[\"ActivityDate\"].dt.date"
   ]
  },
  {
   "cell_type": "markdown",
   "id": "e36fdef7",
   "metadata": {},
   "source": [
    "<h2>Checking the Consistency of Data on Calories</h2>"
   ]
  },
  {
   "cell_type": "code",
   "execution_count": 14,
   "id": "588d7d6a",
   "metadata": {},
   "outputs": [],
   "source": [
    "daily_activity_calories = daily_activity.copy().loc[:, (\"Id\", \"ActivityDate\", \"Calories\")]\n",
    "daily_activity_calories[\"ActivityDate\"] = daily_activity_calories[\"ActivityDate\"].dt.date"
   ]
  },
  {
   "cell_type": "code",
   "execution_count": 15,
   "id": "5dd4f3fd",
   "metadata": {},
   "outputs": [],
   "source": [
    "daily_calories = pandas.read_csv(\"dailyCalories_merged.csv\")"
   ]
  },
  {
   "cell_type": "code",
   "execution_count": 16,
   "id": "11535b57",
   "metadata": {},
   "outputs": [],
   "source": [
    "daily_calories[\"ActivityDay\"] = pandas.to_datetime(daily_calories[\"ActivityDay\"], format = \"%m/%d/%Y\")"
   ]
  },
  {
   "cell_type": "code",
   "execution_count": 17,
   "id": "fe93e534",
   "metadata": {},
   "outputs": [],
   "source": [
    "daily_calories[\"ActivityDay\"] = daily_calories[\"ActivityDay\"].dt.date\n",
    "daily_calories = daily_calories.rename(columns={\"Calories\": \"DailyCalories\"})"
   ]
  },
  {
   "cell_type": "code",
   "execution_count": 18,
   "id": "8291baf8",
   "metadata": {},
   "outputs": [],
   "source": [
    "hourly_calories = pandas.read_csv(\"hourlyCalories_merged.csv\")"
   ]
  },
  {
   "cell_type": "code",
   "execution_count": 19,
   "id": "2675afdd",
   "metadata": {},
   "outputs": [],
   "source": [
    "hourly_calories[\"ActivityHour\"] = pandas.to_datetime(hourly_calories[\"ActivityHour\"], format = \"%m/%d/%Y %I:%M:%S %p\")"
   ]
  },
  {
   "cell_type": "code",
   "execution_count": 20,
   "id": "042356a5",
   "metadata": {},
   "outputs": [],
   "source": [
    "hourly_calories_added = hourly_calories.copy()\n",
    "hourly_calories_added[\"ActivityHour\"] = hourly_calories_added[\"ActivityHour\"].dt.date"
   ]
  },
  {
   "cell_type": "code",
   "execution_count": 21,
   "id": "a333aa5a",
   "metadata": {},
   "outputs": [],
   "source": [
    "hourly_calories_added = hourly_calories_added.groupby([\"Id\", \"ActivityHour\"]).sum().reset_index().rename(columns={\"Calories\": \"HourlyCaloriesAdded\"})"
   ]
  },
  {
   "cell_type": "code",
   "execution_count": 22,
   "id": "df3d39a1",
   "metadata": {},
   "outputs": [],
   "source": [
    "minute_calories_narrow = pandas.read_csv(\"minuteCaloriesNarrow_merged.csv\")"
   ]
  },
  {
   "cell_type": "code",
   "execution_count": 23,
   "id": "0681e25e",
   "metadata": {},
   "outputs": [],
   "source": [
    "minute_calories_narrow[\"ActivityMinute\"] = pandas.to_datetime(minute_calories_narrow[\"ActivityMinute\"], format = \"%m/%d/%Y %I:%M:%S %p\")"
   ]
  },
  {
   "cell_type": "code",
   "execution_count": 24,
   "id": "74f089b5",
   "metadata": {},
   "outputs": [],
   "source": [
    "minute_calories_added = minute_calories_narrow.copy()\n",
    "minute_calories_added[\"ActivityMinute\"] = minute_calories_added[\"ActivityMinute\"].dt.date"
   ]
  },
  {
   "cell_type": "code",
   "execution_count": 25,
   "id": "e5342182",
   "metadata": {},
   "outputs": [],
   "source": [
    "minute_calories_added = minute_calories_added.groupby([\"Id\", \"ActivityMinute\"]).sum().round().rename(columns={\"Calories\":\"MinuteCaloriesAdded\"})"
   ]
  },
  {
   "cell_type": "code",
   "execution_count": 26,
   "id": "5edfb35e",
   "metadata": {
    "scrolled": true
   },
   "outputs": [
    {
     "data": {
      "text/html": [
       "<div>\n",
       "<style scoped>\n",
       "    .dataframe tbody tr th:only-of-type {\n",
       "        vertical-align: middle;\n",
       "    }\n",
       "\n",
       "    .dataframe tbody tr th {\n",
       "        vertical-align: top;\n",
       "    }\n",
       "\n",
       "    .dataframe thead th {\n",
       "        text-align: right;\n",
       "    }\n",
       "</style>\n",
       "<table border=\"1\" class=\"dataframe\">\n",
       "  <thead>\n",
       "    <tr style=\"text-align: right;\">\n",
       "      <th></th>\n",
       "      <th>Id</th>\n",
       "      <th>ActivityDate</th>\n",
       "      <th>Calories</th>\n",
       "      <th>ActivityDay</th>\n",
       "      <th>DailyCalories</th>\n",
       "      <th>ActivityHour</th>\n",
       "      <th>HourlyCaloriesAdded</th>\n",
       "      <th>MinuteCaloriesAdded</th>\n",
       "    </tr>\n",
       "  </thead>\n",
       "  <tbody>\n",
       "    <tr>\n",
       "      <th>0</th>\n",
       "      <td>1503960366</td>\n",
       "      <td>2016-04-12</td>\n",
       "      <td>1985</td>\n",
       "      <td>2016-04-12</td>\n",
       "      <td>1985</td>\n",
       "      <td>2016-04-12</td>\n",
       "      <td>1988</td>\n",
       "      <td>1985.0</td>\n",
       "    </tr>\n",
       "    <tr>\n",
       "      <th>1</th>\n",
       "      <td>1503960366</td>\n",
       "      <td>2016-04-13</td>\n",
       "      <td>1797</td>\n",
       "      <td>2016-04-13</td>\n",
       "      <td>1797</td>\n",
       "      <td>2016-04-13</td>\n",
       "      <td>1798</td>\n",
       "      <td>1798.0</td>\n",
       "    </tr>\n",
       "    <tr>\n",
       "      <th>2</th>\n",
       "      <td>1503960366</td>\n",
       "      <td>2016-04-14</td>\n",
       "      <td>1776</td>\n",
       "      <td>2016-04-14</td>\n",
       "      <td>1776</td>\n",
       "      <td>2016-04-14</td>\n",
       "      <td>1776</td>\n",
       "      <td>1777.0</td>\n",
       "    </tr>\n",
       "    <tr>\n",
       "      <th>3</th>\n",
       "      <td>1503960366</td>\n",
       "      <td>2016-04-15</td>\n",
       "      <td>1745</td>\n",
       "      <td>2016-04-15</td>\n",
       "      <td>1745</td>\n",
       "      <td>2016-04-15</td>\n",
       "      <td>1745</td>\n",
       "      <td>1745.0</td>\n",
       "    </tr>\n",
       "    <tr>\n",
       "      <th>4</th>\n",
       "      <td>1503960366</td>\n",
       "      <td>2016-04-16</td>\n",
       "      <td>1863</td>\n",
       "      <td>2016-04-16</td>\n",
       "      <td>1863</td>\n",
       "      <td>2016-04-16</td>\n",
       "      <td>1866</td>\n",
       "      <td>1864.0</td>\n",
       "    </tr>\n",
       "  </tbody>\n",
       "</table>\n",
       "</div>"
      ],
      "text/plain": [
       "           Id ActivityDate  Calories ActivityDay  DailyCalories ActivityHour  \\\n",
       "0  1503960366   2016-04-12      1985  2016-04-12           1985   2016-04-12   \n",
       "1  1503960366   2016-04-13      1797  2016-04-13           1797   2016-04-13   \n",
       "2  1503960366   2016-04-14      1776  2016-04-14           1776   2016-04-14   \n",
       "3  1503960366   2016-04-15      1745  2016-04-15           1745   2016-04-15   \n",
       "4  1503960366   2016-04-16      1863  2016-04-16           1863   2016-04-16   \n",
       "\n",
       "   HourlyCaloriesAdded  MinuteCaloriesAdded  \n",
       "0                 1988               1985.0  \n",
       "1                 1798               1798.0  \n",
       "2                 1776               1777.0  \n",
       "3                 1745               1745.0  \n",
       "4                 1866               1864.0  "
      ]
     },
     "execution_count": 26,
     "metadata": {},
     "output_type": "execute_result"
    }
   ],
   "source": [
    "calorie_consistency_test = pandas.merge(daily_activity_calories, daily_calories, left_on=[\"Id\", \"ActivityDate\"], right_on=[\"Id\", \"ActivityDay\"], how=\"inner\")\n",
    "calorie_consistency_test = pandas.merge(calorie_consistency_test, hourly_calories_added, left_on=[\"Id\", \"ActivityDate\"], right_on=[\"Id\", \"ActivityHour\"], how=\"inner\")\n",
    "calorie_consistency_test = pandas.merge(calorie_consistency_test, minute_calories_added, left_on=[\"Id\", \"ActivityDate\"], right_on=[\"Id\", \"ActivityMinute\"], how=\"inner\")\n",
    "calorie_consistency_test.head()"
   ]
  },
  {
   "cell_type": "code",
   "execution_count": 27,
   "id": "25883816",
   "metadata": {
    "scrolled": true
   },
   "outputs": [
    {
     "data": {
      "text/html": [
       "<div>\n",
       "<style scoped>\n",
       "    .dataframe tbody tr th:only-of-type {\n",
       "        vertical-align: middle;\n",
       "    }\n",
       "\n",
       "    .dataframe tbody tr th {\n",
       "        vertical-align: top;\n",
       "    }\n",
       "\n",
       "    .dataframe thead th {\n",
       "        text-align: right;\n",
       "    }\n",
       "</style>\n",
       "<table border=\"1\" class=\"dataframe\">\n",
       "  <thead>\n",
       "    <tr style=\"text-align: right;\">\n",
       "      <th></th>\n",
       "      <th>Id</th>\n",
       "      <th>ActivityDate</th>\n",
       "      <th>Calories</th>\n",
       "      <th>ActivityDay</th>\n",
       "      <th>DailyCalories</th>\n",
       "      <th>ActivityHour</th>\n",
       "      <th>HourlyCaloriesAdded</th>\n",
       "      <th>MinuteCaloriesAdded</th>\n",
       "    </tr>\n",
       "  </thead>\n",
       "  <tbody>\n",
       "    <tr>\n",
       "      <th>3</th>\n",
       "      <td>1503960366</td>\n",
       "      <td>2016-04-15</td>\n",
       "      <td>1745</td>\n",
       "      <td>2016-04-15</td>\n",
       "      <td>1745</td>\n",
       "      <td>2016-04-15</td>\n",
       "      <td>1745</td>\n",
       "      <td>1745.0</td>\n",
       "    </tr>\n",
       "    <tr>\n",
       "      <th>15</th>\n",
       "      <td>1503960366</td>\n",
       "      <td>2016-04-27</td>\n",
       "      <td>2159</td>\n",
       "      <td>2016-04-27</td>\n",
       "      <td>2159</td>\n",
       "      <td>2016-04-27</td>\n",
       "      <td>2159</td>\n",
       "      <td>2159.0</td>\n",
       "    </tr>\n",
       "    <tr>\n",
       "      <th>36</th>\n",
       "      <td>1624580081</td>\n",
       "      <td>2016-04-18</td>\n",
       "      <td>1604</td>\n",
       "      <td>2016-04-18</td>\n",
       "      <td>1604</td>\n",
       "      <td>2016-04-18</td>\n",
       "      <td>1604</td>\n",
       "      <td>1604.0</td>\n",
       "    </tr>\n",
       "    <tr>\n",
       "      <th>44</th>\n",
       "      <td>1624580081</td>\n",
       "      <td>2016-04-26</td>\n",
       "      <td>1402</td>\n",
       "      <td>2016-04-26</td>\n",
       "      <td>1402</td>\n",
       "      <td>2016-04-26</td>\n",
       "      <td>1402</td>\n",
       "      <td>1402.0</td>\n",
       "    </tr>\n",
       "    <tr>\n",
       "      <th>50</th>\n",
       "      <td>1624580081</td>\n",
       "      <td>2016-05-02</td>\n",
       "      <td>1497</td>\n",
       "      <td>2016-05-02</td>\n",
       "      <td>1497</td>\n",
       "      <td>2016-05-02</td>\n",
       "      <td>1497</td>\n",
       "      <td>1497.0</td>\n",
       "    </tr>\n",
       "  </tbody>\n",
       "</table>\n",
       "</div>"
      ],
      "text/plain": [
       "            Id ActivityDate  Calories ActivityDay  DailyCalories ActivityHour  \\\n",
       "3   1503960366   2016-04-15      1745  2016-04-15           1745   2016-04-15   \n",
       "15  1503960366   2016-04-27      2159  2016-04-27           2159   2016-04-27   \n",
       "36  1624580081   2016-04-18      1604  2016-04-18           1604   2016-04-18   \n",
       "44  1624580081   2016-04-26      1402  2016-04-26           1402   2016-04-26   \n",
       "50  1624580081   2016-05-02      1497  2016-05-02           1497   2016-05-02   \n",
       "\n",
       "    HourlyCaloriesAdded  MinuteCaloriesAdded  \n",
       "3                  1745               1745.0  \n",
       "15                 2159               2159.0  \n",
       "36                 1604               1604.0  \n",
       "44                 1402               1402.0  \n",
       "50                 1497               1497.0  "
      ]
     },
     "execution_count": 27,
     "metadata": {},
     "output_type": "execute_result"
    }
   ],
   "source": [
    "calorie_consistency_test[(calorie_consistency_test[\"Calories\"] == calorie_consistency_test[\"HourlyCaloriesAdded\"]) & \n",
    "                                    (calorie_consistency_test[\"Calories\"] == (calorie_consistency_test[\"MinuteCaloriesAdded\"]))].head()"
   ]
  },
  {
   "cell_type": "code",
   "execution_count": 28,
   "id": "9baa0b43",
   "metadata": {},
   "outputs": [
    {
     "data": {
      "text/html": [
       "<div>\n",
       "<style scoped>\n",
       "    .dataframe tbody tr th:only-of-type {\n",
       "        vertical-align: middle;\n",
       "    }\n",
       "\n",
       "    .dataframe tbody tr th {\n",
       "        vertical-align: top;\n",
       "    }\n",
       "\n",
       "    .dataframe thead th {\n",
       "        text-align: right;\n",
       "    }\n",
       "</style>\n",
       "<table border=\"1\" class=\"dataframe\">\n",
       "  <thead>\n",
       "    <tr style=\"text-align: right;\">\n",
       "      <th></th>\n",
       "      <th>Id</th>\n",
       "      <th>ActivityDate</th>\n",
       "      <th>Calories</th>\n",
       "      <th>ActivityDay</th>\n",
       "      <th>DailyCalories</th>\n",
       "      <th>ActivityHour</th>\n",
       "      <th>HourlyCaloriesAdded</th>\n",
       "      <th>MinuteCaloriesAdded</th>\n",
       "    </tr>\n",
       "  </thead>\n",
       "  <tbody>\n",
       "    <tr>\n",
       "      <th>0</th>\n",
       "      <td>1503960366</td>\n",
       "      <td>2016-04-12</td>\n",
       "      <td>1985</td>\n",
       "      <td>2016-04-12</td>\n",
       "      <td>1985</td>\n",
       "      <td>2016-04-12</td>\n",
       "      <td>1988</td>\n",
       "      <td>1985.0</td>\n",
       "    </tr>\n",
       "    <tr>\n",
       "      <th>1</th>\n",
       "      <td>1503960366</td>\n",
       "      <td>2016-04-13</td>\n",
       "      <td>1797</td>\n",
       "      <td>2016-04-13</td>\n",
       "      <td>1797</td>\n",
       "      <td>2016-04-13</td>\n",
       "      <td>1798</td>\n",
       "      <td>1798.0</td>\n",
       "    </tr>\n",
       "    <tr>\n",
       "      <th>4</th>\n",
       "      <td>1503960366</td>\n",
       "      <td>2016-04-16</td>\n",
       "      <td>1863</td>\n",
       "      <td>2016-04-16</td>\n",
       "      <td>1863</td>\n",
       "      <td>2016-04-16</td>\n",
       "      <td>1866</td>\n",
       "      <td>1864.0</td>\n",
       "    </tr>\n",
       "    <tr>\n",
       "      <th>5</th>\n",
       "      <td>1503960366</td>\n",
       "      <td>2016-04-17</td>\n",
       "      <td>1728</td>\n",
       "      <td>2016-04-17</td>\n",
       "      <td>1728</td>\n",
       "      <td>2016-04-17</td>\n",
       "      <td>1730</td>\n",
       "      <td>1728.0</td>\n",
       "    </tr>\n",
       "    <tr>\n",
       "      <th>6</th>\n",
       "      <td>1503960366</td>\n",
       "      <td>2016-04-18</td>\n",
       "      <td>1921</td>\n",
       "      <td>2016-04-18</td>\n",
       "      <td>1921</td>\n",
       "      <td>2016-04-18</td>\n",
       "      <td>1920</td>\n",
       "      <td>1922.0</td>\n",
       "    </tr>\n",
       "  </tbody>\n",
       "</table>\n",
       "</div>"
      ],
      "text/plain": [
       "           Id ActivityDate  Calories ActivityDay  DailyCalories ActivityHour  \\\n",
       "0  1503960366   2016-04-12      1985  2016-04-12           1985   2016-04-12   \n",
       "1  1503960366   2016-04-13      1797  2016-04-13           1797   2016-04-13   \n",
       "4  1503960366   2016-04-16      1863  2016-04-16           1863   2016-04-16   \n",
       "5  1503960366   2016-04-17      1728  2016-04-17           1728   2016-04-17   \n",
       "6  1503960366   2016-04-18      1921  2016-04-18           1921   2016-04-18   \n",
       "\n",
       "   HourlyCaloriesAdded  MinuteCaloriesAdded  \n",
       "0                 1988               1985.0  \n",
       "1                 1798               1798.0  \n",
       "4                 1866               1864.0  \n",
       "5                 1730               1728.0  \n",
       "6                 1920               1922.0  "
      ]
     },
     "execution_count": 28,
     "metadata": {},
     "output_type": "execute_result"
    }
   ],
   "source": [
    "calorie_consistency_test[calorie_consistency_test[\"Calories\"] != calorie_consistency_test[\"HourlyCaloriesAdded\"]].head()"
   ]
  },
  {
   "cell_type": "code",
   "execution_count": 29,
   "id": "64a9a67a",
   "metadata": {},
   "outputs": [],
   "source": [
    "calorie_consistency_test['MergedToDailyPercentDifference'] = calorie_consistency_test.apply(\n",
    "    lambda row: (abs(row['Calories'] - row['DailyCalories']) / row['DailyCalories']) * 100 if row['DailyCalories'] > 0 else (6 if row['DailyCalories'] == 0 and row[\"Calories\"] > 0 else 0), axis=1)"
   ]
  },
  {
   "cell_type": "code",
   "execution_count": 30,
   "id": "9bdd4560",
   "metadata": {},
   "outputs": [],
   "source": [
    "calorie_consistency_test['MergedtoHourlyPercentDifference'] = calorie_consistency_test.apply(\n",
    "    lambda row: (abs(row['Calories'] - row['HourlyCaloriesAdded']) / row['HourlyCaloriesAdded']) * 100 if row['HourlyCaloriesAdded'] > 0 else (6 if row['HourlyCaloriesAdded'] == 0 and row[\"Calories\"] > 0 else 0), axis=1)"
   ]
  },
  {
   "cell_type": "code",
   "execution_count": 31,
   "id": "74b361d1",
   "metadata": {},
   "outputs": [],
   "source": [
    "calorie_consistency_test['MergedtoMinutePercentDifference'] = calorie_consistency_test.apply(\n",
    "    lambda row: (abs(row['Calories'] - row['MinuteCaloriesAdded']) / row['MinuteCaloriesAdded']) * 100 if row['MinuteCaloriesAdded'] > 0 else (6 if row['MinuteCaloriesAdded'] == 0 and row[\"Calories\"] > 0 else 0), axis=1)"
   ]
  },
  {
   "cell_type": "code",
   "execution_count": 32,
   "id": "a5a565e3",
   "metadata": {
    "scrolled": true
   },
   "outputs": [
    {
     "data": {
      "text/html": [
       "<div>\n",
       "<style scoped>\n",
       "    .dataframe tbody tr th:only-of-type {\n",
       "        vertical-align: middle;\n",
       "    }\n",
       "\n",
       "    .dataframe tbody tr th {\n",
       "        vertical-align: top;\n",
       "    }\n",
       "\n",
       "    .dataframe thead th {\n",
       "        text-align: right;\n",
       "    }\n",
       "</style>\n",
       "<table border=\"1\" class=\"dataframe\">\n",
       "  <thead>\n",
       "    <tr style=\"text-align: right;\">\n",
       "      <th></th>\n",
       "      <th>MergedToDailyPercentDifference</th>\n",
       "      <th>MergedtoHourlyPercentDifference</th>\n",
       "      <th>MergedtoMinutePercentDifference</th>\n",
       "    </tr>\n",
       "  </thead>\n",
       "  <tbody>\n",
       "    <tr>\n",
       "      <th>count</th>\n",
       "      <td>934.0</td>\n",
       "      <td>934.000000</td>\n",
       "      <td>934.000000</td>\n",
       "    </tr>\n",
       "    <tr>\n",
       "      <th>mean</th>\n",
       "      <td>0.0</td>\n",
       "      <td>0.966506</td>\n",
       "      <td>0.941816</td>\n",
       "    </tr>\n",
       "    <tr>\n",
       "      <th>std</th>\n",
       "      <td>0.0</td>\n",
       "      <td>6.224956</td>\n",
       "      <td>6.329574</td>\n",
       "    </tr>\n",
       "    <tr>\n",
       "      <th>min</th>\n",
       "      <td>0.0</td>\n",
       "      <td>0.000000</td>\n",
       "      <td>0.000000</td>\n",
       "    </tr>\n",
       "    <tr>\n",
       "      <th>25%</th>\n",
       "      <td>0.0</td>\n",
       "      <td>0.040469</td>\n",
       "      <td>0.000000</td>\n",
       "    </tr>\n",
       "    <tr>\n",
       "      <th>50%</th>\n",
       "      <td>0.0</td>\n",
       "      <td>0.087356</td>\n",
       "      <td>0.033512</td>\n",
       "    </tr>\n",
       "    <tr>\n",
       "      <th>75%</th>\n",
       "      <td>0.0</td>\n",
       "      <td>0.192725</td>\n",
       "      <td>0.054840</td>\n",
       "    </tr>\n",
       "    <tr>\n",
       "      <th>max</th>\n",
       "      <td>0.0</td>\n",
       "      <td>107.188161</td>\n",
       "      <td>107.013097</td>\n",
       "    </tr>\n",
       "  </tbody>\n",
       "</table>\n",
       "</div>"
      ],
      "text/plain": [
       "       MergedToDailyPercentDifference  MergedtoHourlyPercentDifference  \\\n",
       "count                           934.0                       934.000000   \n",
       "mean                              0.0                         0.966506   \n",
       "std                               0.0                         6.224956   \n",
       "min                               0.0                         0.000000   \n",
       "25%                               0.0                         0.040469   \n",
       "50%                               0.0                         0.087356   \n",
       "75%                               0.0                         0.192725   \n",
       "max                               0.0                       107.188161   \n",
       "\n",
       "       MergedtoMinutePercentDifference  \n",
       "count                       934.000000  \n",
       "mean                          0.941816  \n",
       "std                           6.329574  \n",
       "min                           0.000000  \n",
       "25%                           0.000000  \n",
       "50%                           0.033512  \n",
       "75%                           0.054840  \n",
       "max                         107.013097  "
      ]
     },
     "execution_count": 32,
     "metadata": {},
     "output_type": "execute_result"
    }
   ],
   "source": [
    "calorie_consistency_test.loc[:, (\"MergedToDailyPercentDifference\", \"MergedtoHourlyPercentDifference\", \"MergedtoMinutePercentDifference\")].describe()"
   ]
  },
  {
   "cell_type": "code",
   "execution_count": 33,
   "id": "811eb584",
   "metadata": {
    "scrolled": true
   },
   "outputs": [
    {
     "name": "stdout",
     "output_type": "stream",
     "text": [
      "Mismatch: 802\n",
      "Total: 934\n"
     ]
    }
   ],
   "source": [
    "print(f'Mismatch: {calorie_consistency_test[calorie_consistency_test[\"MergedtoHourlyPercentDifference\"] != 0][\"MergedtoHourlyPercentDifference\"].value_counts().sum()}')\n",
    "print(f'Total: {calorie_consistency_test[\"Id\"].count()}')"
   ]
  },
  {
   "cell_type": "markdown",
   "id": "c7d4a314",
   "metadata": {},
   "source": [
    "765 out of 894 observations contain a mismatch between daily calories, and daily calories calculated from hourly or minute calories. Possible reasons for such discrepancy are rounding error and mistakes during data entry."
   ]
  },
  {
   "cell_type": "code",
   "execution_count": 34,
   "id": "417784ed",
   "metadata": {
    "scrolled": true
   },
   "outputs": [
    {
     "data": {
      "text/html": [
       "<div>\n",
       "<style scoped>\n",
       "    .dataframe tbody tr th:only-of-type {\n",
       "        vertical-align: middle;\n",
       "    }\n",
       "\n",
       "    .dataframe tbody tr th {\n",
       "        vertical-align: top;\n",
       "    }\n",
       "\n",
       "    .dataframe thead th {\n",
       "        text-align: right;\n",
       "    }\n",
       "</style>\n",
       "<table border=\"1\" class=\"dataframe\">\n",
       "  <thead>\n",
       "    <tr style=\"text-align: right;\">\n",
       "      <th></th>\n",
       "      <th>MergedToDailyPercentDifference</th>\n",
       "      <th>MergedtoHourlyPercentDifference</th>\n",
       "      <th>MergedtoMinutePercentDifference</th>\n",
       "    </tr>\n",
       "  </thead>\n",
       "  <tbody>\n",
       "    <tr>\n",
       "      <th>count</th>\n",
       "      <td>905.0</td>\n",
       "      <td>905.000000</td>\n",
       "      <td>905.000000</td>\n",
       "    </tr>\n",
       "    <tr>\n",
       "      <th>mean</th>\n",
       "      <td>0.0</td>\n",
       "      <td>0.186183</td>\n",
       "      <td>0.105139</td>\n",
       "    </tr>\n",
       "    <tr>\n",
       "      <th>std</th>\n",
       "      <td>0.0</td>\n",
       "      <td>0.448649</td>\n",
       "      <td>0.450668</td>\n",
       "    </tr>\n",
       "    <tr>\n",
       "      <th>min</th>\n",
       "      <td>0.0</td>\n",
       "      <td>0.000000</td>\n",
       "      <td>0.000000</td>\n",
       "    </tr>\n",
       "    <tr>\n",
       "      <th>25%</th>\n",
       "      <td>0.0</td>\n",
       "      <td>0.039730</td>\n",
       "      <td>0.000000</td>\n",
       "    </tr>\n",
       "    <tr>\n",
       "      <th>50%</th>\n",
       "      <td>0.0</td>\n",
       "      <td>0.079156</td>\n",
       "      <td>0.032573</td>\n",
       "    </tr>\n",
       "    <tr>\n",
       "      <th>75%</th>\n",
       "      <td>0.0</td>\n",
       "      <td>0.172513</td>\n",
       "      <td>0.053163</td>\n",
       "    </tr>\n",
       "    <tr>\n",
       "      <th>max</th>\n",
       "      <td>0.0</td>\n",
       "      <td>4.532677</td>\n",
       "      <td>4.642983</td>\n",
       "    </tr>\n",
       "  </tbody>\n",
       "</table>\n",
       "</div>"
      ],
      "text/plain": [
       "       MergedToDailyPercentDifference  MergedtoHourlyPercentDifference  \\\n",
       "count                           905.0                       905.000000   \n",
       "mean                              0.0                         0.186183   \n",
       "std                               0.0                         0.448649   \n",
       "min                               0.0                         0.000000   \n",
       "25%                               0.0                         0.039730   \n",
       "50%                               0.0                         0.079156   \n",
       "75%                               0.0                         0.172513   \n",
       "max                               0.0                         4.532677   \n",
       "\n",
       "       MergedtoMinutePercentDifference  \n",
       "count                       905.000000  \n",
       "mean                          0.105139  \n",
       "std                           0.450668  \n",
       "min                           0.000000  \n",
       "25%                           0.000000  \n",
       "50%                           0.032573  \n",
       "75%                           0.053163  \n",
       "max                           4.642983  "
      ]
     },
     "execution_count": 34,
     "metadata": {},
     "output_type": "execute_result"
    }
   ],
   "source": [
    "calorie_consistency_test_droped_high_errors = calorie_consistency_test[(calorie_consistency_test[\"MergedtoHourlyPercentDifference\"] <= 5) & (calorie_consistency_test[\"MergedtoMinutePercentDifference\"] <= 5)]\n",
    "calorie_consistency_test_droped_high_errors.loc[:, (\"MergedToDailyPercentDifference\", \"MergedtoHourlyPercentDifference\", \"MergedtoMinutePercentDifference\")].describe()"
   ]
  },
  {
   "cell_type": "code",
   "execution_count": 35,
   "id": "a470a6f3",
   "metadata": {},
   "outputs": [],
   "source": [
    "daily_activity = daily_activity[daily_activity.index.isin(calorie_consistency_test_droped_high_errors.index)]"
   ]
  },
  {
   "cell_type": "code",
   "execution_count": 36,
   "id": "7b51afbc",
   "metadata": {},
   "outputs": [
    {
     "data": {
      "text/plain": [
       "(905, 5)"
      ]
     },
     "execution_count": 36,
     "metadata": {},
     "output_type": "execute_result"
    }
   ],
   "source": [
    "daily_activity.shape"
   ]
  },
  {
   "cell_type": "markdown",
   "id": "831edfdd",
   "metadata": {},
   "source": [
    "Observations with more than 5% difference between daily calories, and calories calculated from hourly or minute calories were removed."
   ]
  },
  {
   "cell_type": "markdown",
   "id": "0f6c5861",
   "metadata": {},
   "source": [
    "<h2>Checking the Consistency of Data on Daily Steps</h2>"
   ]
  },
  {
   "cell_type": "code",
   "execution_count": 37,
   "id": "6f4a33ac",
   "metadata": {},
   "outputs": [],
   "source": [
    "daily_steps = pandas.read_csv(\"dailySteps_merged.csv\")"
   ]
  },
  {
   "cell_type": "code",
   "execution_count": 38,
   "id": "22195df1",
   "metadata": {},
   "outputs": [],
   "source": [
    "daily_steps[\"ActivityDay\"] = pandas.to_datetime(daily_steps[\"ActivityDay\"], format = \"%m/%d/%Y\")"
   ]
  },
  {
   "cell_type": "code",
   "execution_count": 39,
   "id": "c0b7db03",
   "metadata": {},
   "outputs": [],
   "source": [
    "daily_steps[\"ActivityDay\"] = daily_steps[\"ActivityDay\"].dt.date\n",
    "daily_steps = daily_steps.rename(columns={\"StepTotal\":\"DailySteps\"})"
   ]
  },
  {
   "cell_type": "code",
   "execution_count": 40,
   "id": "3f6282ed",
   "metadata": {},
   "outputs": [],
   "source": [
    "hourly_steps_added = pandas.read_csv(\"hourlySteps_merged.csv\")"
   ]
  },
  {
   "cell_type": "code",
   "execution_count": 41,
   "id": "cb3202ff",
   "metadata": {},
   "outputs": [],
   "source": [
    "hourly_steps_added[\"ActivityHour\"] = pandas.to_datetime(hourly_steps_added[\"ActivityHour\"], format = \"%m/%d/%Y %I:%M:%S %p\")"
   ]
  },
  {
   "cell_type": "code",
   "execution_count": 42,
   "id": "e6e5e41e",
   "metadata": {},
   "outputs": [],
   "source": [
    "hourly_steps_added[\"ActivityHour\"] = hourly_steps_added[\"ActivityHour\"].dt.date"
   ]
  },
  {
   "cell_type": "code",
   "execution_count": 43,
   "id": "aadfafa5",
   "metadata": {},
   "outputs": [],
   "source": [
    "hourly_steps_added = hourly_steps_added.groupby([\"Id\", \"ActivityHour\"]).sum().rename(columns={\"StepTotal\":\"HourlyStepsAdded\"}).reset_index()"
   ]
  },
  {
   "cell_type": "code",
   "execution_count": 44,
   "id": "55ea9507",
   "metadata": {},
   "outputs": [],
   "source": [
    "minute_steps_added = pandas.read_csv(\"minuteStepsNarrow_merged.csv\")"
   ]
  },
  {
   "cell_type": "code",
   "execution_count": 45,
   "id": "a10963d5",
   "metadata": {},
   "outputs": [],
   "source": [
    "minute_steps_added[\"ActivityMinute\"] = pandas.to_datetime(minute_steps_added[\"ActivityMinute\"], format = \"%m/%d/%Y %I:%M:%S %p\")"
   ]
  },
  {
   "cell_type": "code",
   "execution_count": 46,
   "id": "16d3a28b",
   "metadata": {},
   "outputs": [],
   "source": [
    "minute_steps_added[\"ActivityMinute\"] = minute_steps_added[\"ActivityMinute\"].dt.date"
   ]
  },
  {
   "cell_type": "code",
   "execution_count": 47,
   "id": "8db5d7e6",
   "metadata": {},
   "outputs": [
    {
     "data": {
      "text/html": [
       "<div>\n",
       "<style scoped>\n",
       "    .dataframe tbody tr th:only-of-type {\n",
       "        vertical-align: middle;\n",
       "    }\n",
       "\n",
       "    .dataframe tbody tr th {\n",
       "        vertical-align: top;\n",
       "    }\n",
       "\n",
       "    .dataframe thead th {\n",
       "        text-align: right;\n",
       "    }\n",
       "</style>\n",
       "<table border=\"1\" class=\"dataframe\">\n",
       "  <thead>\n",
       "    <tr style=\"text-align: right;\">\n",
       "      <th></th>\n",
       "      <th>Id</th>\n",
       "      <th>ActivityMinute</th>\n",
       "      <th>MinuteStepsAdded</th>\n",
       "    </tr>\n",
       "  </thead>\n",
       "  <tbody>\n",
       "    <tr>\n",
       "      <th>0</th>\n",
       "      <td>1503960366</td>\n",
       "      <td>2016-04-12</td>\n",
       "      <td>13158</td>\n",
       "    </tr>\n",
       "    <tr>\n",
       "      <th>1</th>\n",
       "      <td>1503960366</td>\n",
       "      <td>2016-04-13</td>\n",
       "      <td>10735</td>\n",
       "    </tr>\n",
       "    <tr>\n",
       "      <th>2</th>\n",
       "      <td>1503960366</td>\n",
       "      <td>2016-04-14</td>\n",
       "      <td>10460</td>\n",
       "    </tr>\n",
       "    <tr>\n",
       "      <th>3</th>\n",
       "      <td>1503960366</td>\n",
       "      <td>2016-04-15</td>\n",
       "      <td>9685</td>\n",
       "    </tr>\n",
       "    <tr>\n",
       "      <th>4</th>\n",
       "      <td>1503960366</td>\n",
       "      <td>2016-04-16</td>\n",
       "      <td>12669</td>\n",
       "    </tr>\n",
       "    <tr>\n",
       "      <th>...</th>\n",
       "      <td>...</td>\n",
       "      <td>...</td>\n",
       "      <td>...</td>\n",
       "    </tr>\n",
       "    <tr>\n",
       "      <th>929</th>\n",
       "      <td>8877689391</td>\n",
       "      <td>2016-05-08</td>\n",
       "      <td>10665</td>\n",
       "    </tr>\n",
       "    <tr>\n",
       "      <th>930</th>\n",
       "      <td>8877689391</td>\n",
       "      <td>2016-05-09</td>\n",
       "      <td>20156</td>\n",
       "    </tr>\n",
       "    <tr>\n",
       "      <th>931</th>\n",
       "      <td>8877689391</td>\n",
       "      <td>2016-05-10</td>\n",
       "      <td>10693</td>\n",
       "    </tr>\n",
       "    <tr>\n",
       "      <th>932</th>\n",
       "      <td>8877689391</td>\n",
       "      <td>2016-05-11</td>\n",
       "      <td>21391</td>\n",
       "    </tr>\n",
       "    <tr>\n",
       "      <th>933</th>\n",
       "      <td>8877689391</td>\n",
       "      <td>2016-05-12</td>\n",
       "      <td>7120</td>\n",
       "    </tr>\n",
       "  </tbody>\n",
       "</table>\n",
       "<p>934 rows × 3 columns</p>\n",
       "</div>"
      ],
      "text/plain": [
       "             Id ActivityMinute  MinuteStepsAdded\n",
       "0    1503960366     2016-04-12             13158\n",
       "1    1503960366     2016-04-13             10735\n",
       "2    1503960366     2016-04-14             10460\n",
       "3    1503960366     2016-04-15              9685\n",
       "4    1503960366     2016-04-16             12669\n",
       "..          ...            ...               ...\n",
       "929  8877689391     2016-05-08             10665\n",
       "930  8877689391     2016-05-09             20156\n",
       "931  8877689391     2016-05-10             10693\n",
       "932  8877689391     2016-05-11             21391\n",
       "933  8877689391     2016-05-12              7120\n",
       "\n",
       "[934 rows x 3 columns]"
      ]
     },
     "execution_count": 47,
     "metadata": {},
     "output_type": "execute_result"
    }
   ],
   "source": [
    "minute_steps_added = minute_steps_added.groupby([\"Id\", \"ActivityMinute\"]).sum()\n",
    "minute_steps_added = minute_steps_added.rename(columns={\"Steps\":\"MinuteStepsAdded\"}).reset_index()\n",
    "minute_steps_added"
   ]
  },
  {
   "cell_type": "code",
   "execution_count": 48,
   "id": "0639d8cd",
   "metadata": {},
   "outputs": [
    {
     "data": {
      "text/html": [
       "<div>\n",
       "<style scoped>\n",
       "    .dataframe tbody tr th:only-of-type {\n",
       "        vertical-align: middle;\n",
       "    }\n",
       "\n",
       "    .dataframe tbody tr th {\n",
       "        vertical-align: top;\n",
       "    }\n",
       "\n",
       "    .dataframe thead th {\n",
       "        text-align: right;\n",
       "    }\n",
       "</style>\n",
       "<table border=\"1\" class=\"dataframe\">\n",
       "  <thead>\n",
       "    <tr style=\"text-align: right;\">\n",
       "      <th></th>\n",
       "      <th>Id</th>\n",
       "      <th>ActivityDate</th>\n",
       "      <th>TotalSteps</th>\n",
       "      <th>ActivityDay</th>\n",
       "      <th>DailySteps</th>\n",
       "      <th>ActivityHour</th>\n",
       "      <th>HourlyStepsAdded</th>\n",
       "      <th>ActivityMinute</th>\n",
       "      <th>MinuteStepsAdded</th>\n",
       "    </tr>\n",
       "  </thead>\n",
       "  <tbody>\n",
       "    <tr>\n",
       "      <th>0</th>\n",
       "      <td>1503960366</td>\n",
       "      <td>2016-04-12</td>\n",
       "      <td>13162</td>\n",
       "      <td>2016-04-12</td>\n",
       "      <td>13162</td>\n",
       "      <td>2016-04-12</td>\n",
       "      <td>13158</td>\n",
       "      <td>2016-04-12</td>\n",
       "      <td>13158</td>\n",
       "    </tr>\n",
       "    <tr>\n",
       "      <th>1</th>\n",
       "      <td>1503960366</td>\n",
       "      <td>2016-04-13</td>\n",
       "      <td>10735</td>\n",
       "      <td>2016-04-13</td>\n",
       "      <td>10735</td>\n",
       "      <td>2016-04-13</td>\n",
       "      <td>10735</td>\n",
       "      <td>2016-04-13</td>\n",
       "      <td>10735</td>\n",
       "    </tr>\n",
       "    <tr>\n",
       "      <th>2</th>\n",
       "      <td>1503960366</td>\n",
       "      <td>2016-04-14</td>\n",
       "      <td>10460</td>\n",
       "      <td>2016-04-14</td>\n",
       "      <td>10460</td>\n",
       "      <td>2016-04-14</td>\n",
       "      <td>10460</td>\n",
       "      <td>2016-04-14</td>\n",
       "      <td>10460</td>\n",
       "    </tr>\n",
       "    <tr>\n",
       "      <th>3</th>\n",
       "      <td>1503960366</td>\n",
       "      <td>2016-04-15</td>\n",
       "      <td>9762</td>\n",
       "      <td>2016-04-15</td>\n",
       "      <td>9762</td>\n",
       "      <td>2016-04-15</td>\n",
       "      <td>9685</td>\n",
       "      <td>2016-04-15</td>\n",
       "      <td>9685</td>\n",
       "    </tr>\n",
       "    <tr>\n",
       "      <th>4</th>\n",
       "      <td>1503960366</td>\n",
       "      <td>2016-04-16</td>\n",
       "      <td>12669</td>\n",
       "      <td>2016-04-16</td>\n",
       "      <td>12669</td>\n",
       "      <td>2016-04-16</td>\n",
       "      <td>12669</td>\n",
       "      <td>2016-04-16</td>\n",
       "      <td>12669</td>\n",
       "    </tr>\n",
       "  </tbody>\n",
       "</table>\n",
       "</div>"
      ],
      "text/plain": [
       "           Id ActivityDate  TotalSteps ActivityDay  DailySteps ActivityHour  \\\n",
       "0  1503960366   2016-04-12       13162  2016-04-12       13162   2016-04-12   \n",
       "1  1503960366   2016-04-13       10735  2016-04-13       10735   2016-04-13   \n",
       "2  1503960366   2016-04-14       10460  2016-04-14       10460   2016-04-14   \n",
       "3  1503960366   2016-04-15        9762  2016-04-15        9762   2016-04-15   \n",
       "4  1503960366   2016-04-16       12669  2016-04-16       12669   2016-04-16   \n",
       "\n",
       "   HourlyStepsAdded ActivityMinute  MinuteStepsAdded  \n",
       "0             13158     2016-04-12             13158  \n",
       "1             10735     2016-04-13             10735  \n",
       "2             10460     2016-04-14             10460  \n",
       "3              9685     2016-04-15              9685  \n",
       "4             12669     2016-04-16             12669  "
      ]
     },
     "execution_count": 48,
     "metadata": {},
     "output_type": "execute_result"
    }
   ],
   "source": [
    "step_consistency_test = pandas.merge(daily_activity_steps, daily_steps, left_on=[\"Id\", \"ActivityDate\"], right_on=[\"Id\", \"ActivityDay\"], how=\"inner\")\n",
    "step_consistency_test = pandas.merge(step_consistency_test, hourly_steps_added, left_on=[\"Id\", \"ActivityDate\"], right_on=[\"Id\", \"ActivityHour\"], how=\"inner\")\n",
    "step_consistency_test = pandas.merge(step_consistency_test, minute_steps_added, left_on=[\"Id\", \"ActivityDate\"], right_on=[\"Id\", \"ActivityMinute\"], how=\"inner\")\n",
    "step_consistency_test.head()"
   ]
  },
  {
   "cell_type": "code",
   "execution_count": 49,
   "id": "40ae691a",
   "metadata": {
    "scrolled": true
   },
   "outputs": [
    {
     "data": {
      "text/html": [
       "<div>\n",
       "<style scoped>\n",
       "    .dataframe tbody tr th:only-of-type {\n",
       "        vertical-align: middle;\n",
       "    }\n",
       "\n",
       "    .dataframe tbody tr th {\n",
       "        vertical-align: top;\n",
       "    }\n",
       "\n",
       "    .dataframe thead th {\n",
       "        text-align: right;\n",
       "    }\n",
       "</style>\n",
       "<table border=\"1\" class=\"dataframe\">\n",
       "  <thead>\n",
       "    <tr style=\"text-align: right;\">\n",
       "      <th></th>\n",
       "      <th>Id</th>\n",
       "      <th>ActivityDate</th>\n",
       "      <th>TotalSteps</th>\n",
       "      <th>ActivityDay</th>\n",
       "      <th>DailySteps</th>\n",
       "      <th>ActivityHour</th>\n",
       "      <th>HourlyStepsAdded</th>\n",
       "      <th>ActivityMinute</th>\n",
       "      <th>MinuteStepsAdded</th>\n",
       "    </tr>\n",
       "  </thead>\n",
       "  <tbody>\n",
       "    <tr>\n",
       "      <th>1</th>\n",
       "      <td>1503960366</td>\n",
       "      <td>2016-04-13</td>\n",
       "      <td>10735</td>\n",
       "      <td>2016-04-13</td>\n",
       "      <td>10735</td>\n",
       "      <td>2016-04-13</td>\n",
       "      <td>10735</td>\n",
       "      <td>2016-04-13</td>\n",
       "      <td>10735</td>\n",
       "    </tr>\n",
       "    <tr>\n",
       "      <th>2</th>\n",
       "      <td>1503960366</td>\n",
       "      <td>2016-04-14</td>\n",
       "      <td>10460</td>\n",
       "      <td>2016-04-14</td>\n",
       "      <td>10460</td>\n",
       "      <td>2016-04-14</td>\n",
       "      <td>10460</td>\n",
       "      <td>2016-04-14</td>\n",
       "      <td>10460</td>\n",
       "    </tr>\n",
       "    <tr>\n",
       "      <th>4</th>\n",
       "      <td>1503960366</td>\n",
       "      <td>2016-04-16</td>\n",
       "      <td>12669</td>\n",
       "      <td>2016-04-16</td>\n",
       "      <td>12669</td>\n",
       "      <td>2016-04-16</td>\n",
       "      <td>12669</td>\n",
       "      <td>2016-04-16</td>\n",
       "      <td>12669</td>\n",
       "    </tr>\n",
       "    <tr>\n",
       "      <th>5</th>\n",
       "      <td>1503960366</td>\n",
       "      <td>2016-04-17</td>\n",
       "      <td>9705</td>\n",
       "      <td>2016-04-17</td>\n",
       "      <td>9705</td>\n",
       "      <td>2016-04-17</td>\n",
       "      <td>9705</td>\n",
       "      <td>2016-04-17</td>\n",
       "      <td>9705</td>\n",
       "    </tr>\n",
       "    <tr>\n",
       "      <th>6</th>\n",
       "      <td>1503960366</td>\n",
       "      <td>2016-04-18</td>\n",
       "      <td>13019</td>\n",
       "      <td>2016-04-18</td>\n",
       "      <td>13019</td>\n",
       "      <td>2016-04-18</td>\n",
       "      <td>13019</td>\n",
       "      <td>2016-04-18</td>\n",
       "      <td>13019</td>\n",
       "    </tr>\n",
       "  </tbody>\n",
       "</table>\n",
       "</div>"
      ],
      "text/plain": [
       "           Id ActivityDate  TotalSteps ActivityDay  DailySteps ActivityHour  \\\n",
       "1  1503960366   2016-04-13       10735  2016-04-13       10735   2016-04-13   \n",
       "2  1503960366   2016-04-14       10460  2016-04-14       10460   2016-04-14   \n",
       "4  1503960366   2016-04-16       12669  2016-04-16       12669   2016-04-16   \n",
       "5  1503960366   2016-04-17        9705  2016-04-17        9705   2016-04-17   \n",
       "6  1503960366   2016-04-18       13019  2016-04-18       13019   2016-04-18   \n",
       "\n",
       "   HourlyStepsAdded ActivityMinute  MinuteStepsAdded  \n",
       "1             10735     2016-04-13             10735  \n",
       "2             10460     2016-04-14             10460  \n",
       "4             12669     2016-04-16             12669  \n",
       "5              9705     2016-04-17              9705  \n",
       "6             13019     2016-04-18             13019  "
      ]
     },
     "execution_count": 49,
     "metadata": {},
     "output_type": "execute_result"
    }
   ],
   "source": [
    "step_consistency_test[(step_consistency_test[\"TotalSteps\"] == step_consistency_test[\"HourlyStepsAdded\"]) & \n",
    "                                    (step_consistency_test[\"TotalSteps\"] == (step_consistency_test[\"MinuteStepsAdded\"]))].head()"
   ]
  },
  {
   "cell_type": "code",
   "execution_count": 50,
   "id": "dce87f36",
   "metadata": {
    "scrolled": true
   },
   "outputs": [
    {
     "data": {
      "text/html": [
       "<div>\n",
       "<style scoped>\n",
       "    .dataframe tbody tr th:only-of-type {\n",
       "        vertical-align: middle;\n",
       "    }\n",
       "\n",
       "    .dataframe tbody tr th {\n",
       "        vertical-align: top;\n",
       "    }\n",
       "\n",
       "    .dataframe thead th {\n",
       "        text-align: right;\n",
       "    }\n",
       "</style>\n",
       "<table border=\"1\" class=\"dataframe\">\n",
       "  <thead>\n",
       "    <tr style=\"text-align: right;\">\n",
       "      <th></th>\n",
       "      <th>Id</th>\n",
       "      <th>ActivityDate</th>\n",
       "      <th>TotalSteps</th>\n",
       "      <th>ActivityDay</th>\n",
       "      <th>DailySteps</th>\n",
       "      <th>ActivityHour</th>\n",
       "      <th>HourlyStepsAdded</th>\n",
       "      <th>ActivityMinute</th>\n",
       "      <th>MinuteStepsAdded</th>\n",
       "    </tr>\n",
       "  </thead>\n",
       "  <tbody>\n",
       "    <tr>\n",
       "      <th>0</th>\n",
       "      <td>1503960366</td>\n",
       "      <td>2016-04-12</td>\n",
       "      <td>13162</td>\n",
       "      <td>2016-04-12</td>\n",
       "      <td>13162</td>\n",
       "      <td>2016-04-12</td>\n",
       "      <td>13158</td>\n",
       "      <td>2016-04-12</td>\n",
       "      <td>13158</td>\n",
       "    </tr>\n",
       "    <tr>\n",
       "      <th>3</th>\n",
       "      <td>1503960366</td>\n",
       "      <td>2016-04-15</td>\n",
       "      <td>9762</td>\n",
       "      <td>2016-04-15</td>\n",
       "      <td>9762</td>\n",
       "      <td>2016-04-15</td>\n",
       "      <td>9685</td>\n",
       "      <td>2016-04-15</td>\n",
       "      <td>9685</td>\n",
       "    </tr>\n",
       "    <tr>\n",
       "      <th>15</th>\n",
       "      <td>1503960366</td>\n",
       "      <td>2016-04-27</td>\n",
       "      <td>18134</td>\n",
       "      <td>2016-04-27</td>\n",
       "      <td>18134</td>\n",
       "      <td>2016-04-27</td>\n",
       "      <td>18125</td>\n",
       "      <td>2016-04-27</td>\n",
       "      <td>18125</td>\n",
       "    </tr>\n",
       "    <tr>\n",
       "      <th>16</th>\n",
       "      <td>1503960366</td>\n",
       "      <td>2016-04-28</td>\n",
       "      <td>13154</td>\n",
       "      <td>2016-04-28</td>\n",
       "      <td>13154</td>\n",
       "      <td>2016-04-28</td>\n",
       "      <td>13091</td>\n",
       "      <td>2016-04-28</td>\n",
       "      <td>13091</td>\n",
       "    </tr>\n",
       "    <tr>\n",
       "      <th>20</th>\n",
       "      <td>1503960366</td>\n",
       "      <td>2016-05-02</td>\n",
       "      <td>14727</td>\n",
       "      <td>2016-05-02</td>\n",
       "      <td>14727</td>\n",
       "      <td>2016-05-02</td>\n",
       "      <td>14710</td>\n",
       "      <td>2016-05-02</td>\n",
       "      <td>14710</td>\n",
       "    </tr>\n",
       "  </tbody>\n",
       "</table>\n",
       "</div>"
      ],
      "text/plain": [
       "            Id ActivityDate  TotalSteps ActivityDay  DailySteps ActivityHour  \\\n",
       "0   1503960366   2016-04-12       13162  2016-04-12       13162   2016-04-12   \n",
       "3   1503960366   2016-04-15        9762  2016-04-15        9762   2016-04-15   \n",
       "15  1503960366   2016-04-27       18134  2016-04-27       18134   2016-04-27   \n",
       "16  1503960366   2016-04-28       13154  2016-04-28       13154   2016-04-28   \n",
       "20  1503960366   2016-05-02       14727  2016-05-02       14727   2016-05-02   \n",
       "\n",
       "    HourlyStepsAdded ActivityMinute  MinuteStepsAdded  \n",
       "0              13158     2016-04-12             13158  \n",
       "3               9685     2016-04-15              9685  \n",
       "15             18125     2016-04-27             18125  \n",
       "16             13091     2016-04-28             13091  \n",
       "20             14710     2016-05-02             14710  "
      ]
     },
     "execution_count": 50,
     "metadata": {},
     "output_type": "execute_result"
    }
   ],
   "source": [
    "step_consistency_test[(step_consistency_test[\"TotalSteps\"] != step_consistency_test[\"HourlyStepsAdded\"]) | \n",
    "                                    (step_consistency_test[\"TotalSteps\"] != (step_consistency_test[\"MinuteStepsAdded\"]))].head()"
   ]
  },
  {
   "cell_type": "code",
   "execution_count": 51,
   "id": "4104b3dc",
   "metadata": {},
   "outputs": [
    {
     "data": {
      "text/html": [
       "<div>\n",
       "<style scoped>\n",
       "    .dataframe tbody tr th:only-of-type {\n",
       "        vertical-align: middle;\n",
       "    }\n",
       "\n",
       "    .dataframe tbody tr th {\n",
       "        vertical-align: top;\n",
       "    }\n",
       "\n",
       "    .dataframe thead th {\n",
       "        text-align: right;\n",
       "    }\n",
       "</style>\n",
       "<table border=\"1\" class=\"dataframe\">\n",
       "  <thead>\n",
       "    <tr style=\"text-align: right;\">\n",
       "      <th></th>\n",
       "      <th>Id</th>\n",
       "      <th>ActivityDate</th>\n",
       "      <th>TotalSteps</th>\n",
       "      <th>ActivityDay</th>\n",
       "      <th>DailySteps</th>\n",
       "      <th>ActivityHour</th>\n",
       "      <th>HourlyStepsAdded</th>\n",
       "      <th>ActivityMinute</th>\n",
       "      <th>MinuteStepsAdded</th>\n",
       "    </tr>\n",
       "  </thead>\n",
       "  <tbody>\n",
       "    <tr>\n",
       "      <th>379</th>\n",
       "      <td>4319703577</td>\n",
       "      <td>2016-04-12</td>\n",
       "      <td>7753</td>\n",
       "      <td>2016-04-12</td>\n",
       "      <td>7753</td>\n",
       "      <td>2016-04-12</td>\n",
       "      <td>0</td>\n",
       "      <td>2016-04-12</td>\n",
       "      <td>0</td>\n",
       "    </tr>\n",
       "    <tr>\n",
       "      <th>410</th>\n",
       "      <td>4388161847</td>\n",
       "      <td>2016-04-12</td>\n",
       "      <td>10122</td>\n",
       "      <td>2016-04-12</td>\n",
       "      <td>10122</td>\n",
       "      <td>2016-04-12</td>\n",
       "      <td>0</td>\n",
       "      <td>2016-04-12</td>\n",
       "      <td>0</td>\n",
       "    </tr>\n",
       "    <tr>\n",
       "      <th>849</th>\n",
       "      <td>8583815059</td>\n",
       "      <td>2016-04-16</td>\n",
       "      <td>5319</td>\n",
       "      <td>2016-04-16</td>\n",
       "      <td>5319</td>\n",
       "      <td>2016-04-16</td>\n",
       "      <td>0</td>\n",
       "      <td>2016-04-16</td>\n",
       "      <td>0</td>\n",
       "    </tr>\n",
       "    <tr>\n",
       "      <th>850</th>\n",
       "      <td>8583815059</td>\n",
       "      <td>2016-04-17</td>\n",
       "      <td>3008</td>\n",
       "      <td>2016-04-17</td>\n",
       "      <td>3008</td>\n",
       "      <td>2016-04-17</td>\n",
       "      <td>0</td>\n",
       "      <td>2016-04-17</td>\n",
       "      <td>0</td>\n",
       "    </tr>\n",
       "    <tr>\n",
       "      <th>865</th>\n",
       "      <td>8583815059</td>\n",
       "      <td>2016-05-02</td>\n",
       "      <td>8469</td>\n",
       "      <td>2016-05-02</td>\n",
       "      <td>8469</td>\n",
       "      <td>2016-05-02</td>\n",
       "      <td>0</td>\n",
       "      <td>2016-05-02</td>\n",
       "      <td>0</td>\n",
       "    </tr>\n",
       "  </tbody>\n",
       "</table>\n",
       "</div>"
      ],
      "text/plain": [
       "             Id ActivityDate  TotalSteps ActivityDay  DailySteps ActivityHour  \\\n",
       "379  4319703577   2016-04-12        7753  2016-04-12        7753   2016-04-12   \n",
       "410  4388161847   2016-04-12       10122  2016-04-12       10122   2016-04-12   \n",
       "849  8583815059   2016-04-16        5319  2016-04-16        5319   2016-04-16   \n",
       "850  8583815059   2016-04-17        3008  2016-04-17        3008   2016-04-17   \n",
       "865  8583815059   2016-05-02        8469  2016-05-02        8469   2016-05-02   \n",
       "\n",
       "     HourlyStepsAdded ActivityMinute  MinuteStepsAdded  \n",
       "379                 0     2016-04-12                 0  \n",
       "410                 0     2016-04-12                 0  \n",
       "849                 0     2016-04-16                 0  \n",
       "850                 0     2016-04-17                 0  \n",
       "865                 0     2016-05-02                 0  "
      ]
     },
     "execution_count": 51,
     "metadata": {},
     "output_type": "execute_result"
    }
   ],
   "source": [
    "step_consistency_test[(step_consistency_test[\"TotalSteps\"] > 0) & (step_consistency_test[\"HourlyStepsAdded\"] == 0)].head()"
   ]
  },
  {
   "cell_type": "markdown",
   "id": "af4b5838",
   "metadata": {},
   "source": [
    "Calculating the % difference between daily steps and daily steps calculated from hourly and minute steps. If daily step count was >0, but daily step count calculated from hourly or minute steps was 0,value of 6% was placed for that row as observations with higher than 5% difference will be filtered out for further analysis."
   ]
  },
  {
   "cell_type": "code",
   "execution_count": 52,
   "id": "81303143",
   "metadata": {},
   "outputs": [],
   "source": [
    "step_consistency_test['MergedToDailyPercentDifference'] = step_consistency_test.apply(\n",
    "    lambda row: (abs(row['TotalSteps'] - row['DailySteps']) / row['DailySteps']) * 100 if row['DailySteps'] > 0 else (6 if row['DailySteps'] == 0 and row[\"TotalSteps\"] > 0 else 0), axis=1)"
   ]
  },
  {
   "cell_type": "code",
   "execution_count": 53,
   "id": "9794fe6a",
   "metadata": {},
   "outputs": [],
   "source": [
    "step_consistency_test['MergedtoHourlyPercentDifference'] = step_consistency_test.apply(\n",
    "    lambda row: (abs(row['TotalSteps'] - row['HourlyStepsAdded']) / row['HourlyStepsAdded']) * 100 if row['HourlyStepsAdded'] > 0 else (6 if row['HourlyStepsAdded'] == 0 and row[\"TotalSteps\"] > 0 else 0), axis=1)"
   ]
  },
  {
   "cell_type": "code",
   "execution_count": 54,
   "id": "00789347",
   "metadata": {},
   "outputs": [],
   "source": [
    "step_consistency_test['MergedtoMinutePercentDifference'] = step_consistency_test.apply(\n",
    "    lambda row: (abs(row['TotalSteps'] - row['MinuteStepsAdded']) / row['MinuteStepsAdded']) * 100 if row['MinuteStepsAdded'] > 0 else (6 if row['MinuteStepsAdded'] == 0 and row[\"TotalSteps\"] > 0 else 0), axis=1)"
   ]
  },
  {
   "cell_type": "code",
   "execution_count": 55,
   "id": "85a1382c",
   "metadata": {
    "scrolled": false
   },
   "outputs": [
    {
     "data": {
      "text/html": [
       "<div>\n",
       "<style scoped>\n",
       "    .dataframe tbody tr th:only-of-type {\n",
       "        vertical-align: middle;\n",
       "    }\n",
       "\n",
       "    .dataframe tbody tr th {\n",
       "        vertical-align: top;\n",
       "    }\n",
       "\n",
       "    .dataframe thead th {\n",
       "        text-align: right;\n",
       "    }\n",
       "</style>\n",
       "<table border=\"1\" class=\"dataframe\">\n",
       "  <thead>\n",
       "    <tr style=\"text-align: right;\">\n",
       "      <th></th>\n",
       "      <th>Id</th>\n",
       "      <th>ActivityDate</th>\n",
       "      <th>TotalSteps</th>\n",
       "      <th>ActivityDay</th>\n",
       "      <th>DailySteps</th>\n",
       "      <th>ActivityHour</th>\n",
       "      <th>HourlyStepsAdded</th>\n",
       "      <th>ActivityMinute</th>\n",
       "      <th>MinuteStepsAdded</th>\n",
       "      <th>MergedToDailyPercentDifference</th>\n",
       "      <th>MergedtoHourlyPercentDifference</th>\n",
       "      <th>MergedtoMinutePercentDifference</th>\n",
       "    </tr>\n",
       "  </thead>\n",
       "  <tbody>\n",
       "    <tr>\n",
       "      <th>0</th>\n",
       "      <td>1503960366</td>\n",
       "      <td>2016-04-12</td>\n",
       "      <td>13162</td>\n",
       "      <td>2016-04-12</td>\n",
       "      <td>13162</td>\n",
       "      <td>2016-04-12</td>\n",
       "      <td>13158</td>\n",
       "      <td>2016-04-12</td>\n",
       "      <td>13158</td>\n",
       "      <td>0.0</td>\n",
       "      <td>0.030400</td>\n",
       "      <td>0.030400</td>\n",
       "    </tr>\n",
       "    <tr>\n",
       "      <th>1</th>\n",
       "      <td>1503960366</td>\n",
       "      <td>2016-04-13</td>\n",
       "      <td>10735</td>\n",
       "      <td>2016-04-13</td>\n",
       "      <td>10735</td>\n",
       "      <td>2016-04-13</td>\n",
       "      <td>10735</td>\n",
       "      <td>2016-04-13</td>\n",
       "      <td>10735</td>\n",
       "      <td>0.0</td>\n",
       "      <td>0.000000</td>\n",
       "      <td>0.000000</td>\n",
       "    </tr>\n",
       "    <tr>\n",
       "      <th>2</th>\n",
       "      <td>1503960366</td>\n",
       "      <td>2016-04-14</td>\n",
       "      <td>10460</td>\n",
       "      <td>2016-04-14</td>\n",
       "      <td>10460</td>\n",
       "      <td>2016-04-14</td>\n",
       "      <td>10460</td>\n",
       "      <td>2016-04-14</td>\n",
       "      <td>10460</td>\n",
       "      <td>0.0</td>\n",
       "      <td>0.000000</td>\n",
       "      <td>0.000000</td>\n",
       "    </tr>\n",
       "    <tr>\n",
       "      <th>3</th>\n",
       "      <td>1503960366</td>\n",
       "      <td>2016-04-15</td>\n",
       "      <td>9762</td>\n",
       "      <td>2016-04-15</td>\n",
       "      <td>9762</td>\n",
       "      <td>2016-04-15</td>\n",
       "      <td>9685</td>\n",
       "      <td>2016-04-15</td>\n",
       "      <td>9685</td>\n",
       "      <td>0.0</td>\n",
       "      <td>0.795044</td>\n",
       "      <td>0.795044</td>\n",
       "    </tr>\n",
       "    <tr>\n",
       "      <th>4</th>\n",
       "      <td>1503960366</td>\n",
       "      <td>2016-04-16</td>\n",
       "      <td>12669</td>\n",
       "      <td>2016-04-16</td>\n",
       "      <td>12669</td>\n",
       "      <td>2016-04-16</td>\n",
       "      <td>12669</td>\n",
       "      <td>2016-04-16</td>\n",
       "      <td>12669</td>\n",
       "      <td>0.0</td>\n",
       "      <td>0.000000</td>\n",
       "      <td>0.000000</td>\n",
       "    </tr>\n",
       "  </tbody>\n",
       "</table>\n",
       "</div>"
      ],
      "text/plain": [
       "           Id ActivityDate  TotalSteps ActivityDay  DailySteps ActivityHour  \\\n",
       "0  1503960366   2016-04-12       13162  2016-04-12       13162   2016-04-12   \n",
       "1  1503960366   2016-04-13       10735  2016-04-13       10735   2016-04-13   \n",
       "2  1503960366   2016-04-14       10460  2016-04-14       10460   2016-04-14   \n",
       "3  1503960366   2016-04-15        9762  2016-04-15        9762   2016-04-15   \n",
       "4  1503960366   2016-04-16       12669  2016-04-16       12669   2016-04-16   \n",
       "\n",
       "   HourlyStepsAdded ActivityMinute  MinuteStepsAdded  \\\n",
       "0             13158     2016-04-12             13158   \n",
       "1             10735     2016-04-13             10735   \n",
       "2             10460     2016-04-14             10460   \n",
       "3              9685     2016-04-15              9685   \n",
       "4             12669     2016-04-16             12669   \n",
       "\n",
       "   MergedToDailyPercentDifference  MergedtoHourlyPercentDifference  \\\n",
       "0                             0.0                         0.030400   \n",
       "1                             0.0                         0.000000   \n",
       "2                             0.0                         0.000000   \n",
       "3                             0.0                         0.795044   \n",
       "4                             0.0                         0.000000   \n",
       "\n",
       "   MergedtoMinutePercentDifference  \n",
       "0                         0.030400  \n",
       "1                         0.000000  \n",
       "2                         0.000000  \n",
       "3                         0.795044  \n",
       "4                         0.000000  "
      ]
     },
     "execution_count": 55,
     "metadata": {},
     "output_type": "execute_result"
    }
   ],
   "source": [
    "step_consistency_test.head()"
   ]
  },
  {
   "cell_type": "code",
   "execution_count": 56,
   "id": "0253bd14",
   "metadata": {
    "scrolled": true
   },
   "outputs": [
    {
     "data": {
      "text/html": [
       "<div>\n",
       "<style scoped>\n",
       "    .dataframe tbody tr th:only-of-type {\n",
       "        vertical-align: middle;\n",
       "    }\n",
       "\n",
       "    .dataframe tbody tr th {\n",
       "        vertical-align: top;\n",
       "    }\n",
       "\n",
       "    .dataframe thead th {\n",
       "        text-align: right;\n",
       "    }\n",
       "</style>\n",
       "<table border=\"1\" class=\"dataframe\">\n",
       "  <thead>\n",
       "    <tr style=\"text-align: right;\">\n",
       "      <th></th>\n",
       "      <th>MergedToDailyPercentDifference</th>\n",
       "      <th>MergedtoHourlyPercentDifference</th>\n",
       "      <th>MergedtoMinutePercentDifference</th>\n",
       "    </tr>\n",
       "  </thead>\n",
       "  <tbody>\n",
       "    <tr>\n",
       "      <th>count</th>\n",
       "      <td>934.0</td>\n",
       "      <td>934.000000</td>\n",
       "      <td>934.000000</td>\n",
       "    </tr>\n",
       "    <tr>\n",
       "      <th>mean</th>\n",
       "      <td>0.0</td>\n",
       "      <td>3.176913</td>\n",
       "      <td>3.260808</td>\n",
       "    </tr>\n",
       "    <tr>\n",
       "      <th>std</th>\n",
       "      <td>0.0</td>\n",
       "      <td>34.616543</td>\n",
       "      <td>34.675450</td>\n",
       "    </tr>\n",
       "    <tr>\n",
       "      <th>min</th>\n",
       "      <td>0.0</td>\n",
       "      <td>0.000000</td>\n",
       "      <td>0.000000</td>\n",
       "    </tr>\n",
       "    <tr>\n",
       "      <th>25%</th>\n",
       "      <td>0.0</td>\n",
       "      <td>0.000000</td>\n",
       "      <td>0.000000</td>\n",
       "    </tr>\n",
       "    <tr>\n",
       "      <th>50%</th>\n",
       "      <td>0.0</td>\n",
       "      <td>0.000000</td>\n",
       "      <td>0.000000</td>\n",
       "    </tr>\n",
       "    <tr>\n",
       "      <th>75%</th>\n",
       "      <td>0.0</td>\n",
       "      <td>0.000000</td>\n",
       "      <td>0.000000</td>\n",
       "    </tr>\n",
       "    <tr>\n",
       "      <th>max</th>\n",
       "      <td>0.0</td>\n",
       "      <td>724.618447</td>\n",
       "      <td>724.618447</td>\n",
       "    </tr>\n",
       "  </tbody>\n",
       "</table>\n",
       "</div>"
      ],
      "text/plain": [
       "       MergedToDailyPercentDifference  MergedtoHourlyPercentDifference  \\\n",
       "count                           934.0                       934.000000   \n",
       "mean                              0.0                         3.176913   \n",
       "std                               0.0                        34.616543   \n",
       "min                               0.0                         0.000000   \n",
       "25%                               0.0                         0.000000   \n",
       "50%                               0.0                         0.000000   \n",
       "75%                               0.0                         0.000000   \n",
       "max                               0.0                       724.618447   \n",
       "\n",
       "       MergedtoMinutePercentDifference  \n",
       "count                       934.000000  \n",
       "mean                          3.260808  \n",
       "std                          34.675450  \n",
       "min                           0.000000  \n",
       "25%                           0.000000  \n",
       "50%                           0.000000  \n",
       "75%                           0.000000  \n",
       "max                         724.618447  "
      ]
     },
     "execution_count": 56,
     "metadata": {},
     "output_type": "execute_result"
    }
   ],
   "source": [
    "step_consistency_test.loc[:, (\"MergedToDailyPercentDifference\", \"MergedtoHourlyPercentDifference\", \"MergedtoMinutePercentDifference\")].describe()"
   ]
  },
  {
   "cell_type": "code",
   "execution_count": 57,
   "id": "2624a1f8",
   "metadata": {},
   "outputs": [
    {
     "name": "stdout",
     "output_type": "stream",
     "text": [
      "Mismatch: 159\n",
      "Total: 934\n"
     ]
    }
   ],
   "source": [
    "print(f'Mismatch: {step_consistency_test[step_consistency_test[\"MergedtoHourlyPercentDifference\"] != 0][\"MergedtoHourlyPercentDifference\"].value_counts().sum()}')\n",
    "print(f'Total: {step_consistency_test[\"Id\"].count()}')"
   ]
  },
  {
   "cell_type": "markdown",
   "id": "9b480f9c",
   "metadata": {},
   "source": [
    "159 out of 934 observations contain a mismatch between daily steps, and daily steps calculated from hourly or minute steps. Possible reasons for such discrepancy are rounding error and mistakes during data entry."
   ]
  },
  {
   "cell_type": "code",
   "execution_count": 58,
   "id": "39419c64",
   "metadata": {},
   "outputs": [],
   "source": [
    "step_consistency_test_droped_high_errors = step_consistency_test[(step_consistency_test[\"MergedtoHourlyPercentDifference\"] <= 5) & (step_consistency_test[\"MergedtoMinutePercentDifference\"] <= 5)]"
   ]
  },
  {
   "cell_type": "code",
   "execution_count": 59,
   "id": "925c6711",
   "metadata": {
    "scrolled": true
   },
   "outputs": [
    {
     "data": {
      "text/html": [
       "<div>\n",
       "<style scoped>\n",
       "    .dataframe tbody tr th:only-of-type {\n",
       "        vertical-align: middle;\n",
       "    }\n",
       "\n",
       "    .dataframe tbody tr th {\n",
       "        vertical-align: top;\n",
       "    }\n",
       "\n",
       "    .dataframe thead th {\n",
       "        text-align: right;\n",
       "    }\n",
       "</style>\n",
       "<table border=\"1\" class=\"dataframe\">\n",
       "  <thead>\n",
       "    <tr style=\"text-align: right;\">\n",
       "      <th></th>\n",
       "      <th>MergedToDailyPercentDifference</th>\n",
       "      <th>MergedtoHourlyPercentDifference</th>\n",
       "      <th>MergedtoMinutePercentDifference</th>\n",
       "    </tr>\n",
       "  </thead>\n",
       "  <tbody>\n",
       "    <tr>\n",
       "      <th>count</th>\n",
       "      <td>900.0</td>\n",
       "      <td>900.000000</td>\n",
       "      <td>900.000000</td>\n",
       "    </tr>\n",
       "    <tr>\n",
       "      <th>mean</th>\n",
       "      <td>0.0</td>\n",
       "      <td>0.081552</td>\n",
       "      <td>0.081552</td>\n",
       "    </tr>\n",
       "    <tr>\n",
       "      <th>std</th>\n",
       "      <td>0.0</td>\n",
       "      <td>0.354611</td>\n",
       "      <td>0.354611</td>\n",
       "    </tr>\n",
       "    <tr>\n",
       "      <th>min</th>\n",
       "      <td>0.0</td>\n",
       "      <td>0.000000</td>\n",
       "      <td>0.000000</td>\n",
       "    </tr>\n",
       "    <tr>\n",
       "      <th>25%</th>\n",
       "      <td>0.0</td>\n",
       "      <td>0.000000</td>\n",
       "      <td>0.000000</td>\n",
       "    </tr>\n",
       "    <tr>\n",
       "      <th>50%</th>\n",
       "      <td>0.0</td>\n",
       "      <td>0.000000</td>\n",
       "      <td>0.000000</td>\n",
       "    </tr>\n",
       "    <tr>\n",
       "      <th>75%</th>\n",
       "      <td>0.0</td>\n",
       "      <td>0.000000</td>\n",
       "      <td>0.000000</td>\n",
       "    </tr>\n",
       "    <tr>\n",
       "      <th>max</th>\n",
       "      <td>0.0</td>\n",
       "      <td>4.767442</td>\n",
       "      <td>4.767442</td>\n",
       "    </tr>\n",
       "  </tbody>\n",
       "</table>\n",
       "</div>"
      ],
      "text/plain": [
       "       MergedToDailyPercentDifference  MergedtoHourlyPercentDifference  \\\n",
       "count                           900.0                       900.000000   \n",
       "mean                              0.0                         0.081552   \n",
       "std                               0.0                         0.354611   \n",
       "min                               0.0                         0.000000   \n",
       "25%                               0.0                         0.000000   \n",
       "50%                               0.0                         0.000000   \n",
       "75%                               0.0                         0.000000   \n",
       "max                               0.0                         4.767442   \n",
       "\n",
       "       MergedtoMinutePercentDifference  \n",
       "count                       900.000000  \n",
       "mean                          0.081552  \n",
       "std                           0.354611  \n",
       "min                           0.000000  \n",
       "25%                           0.000000  \n",
       "50%                           0.000000  \n",
       "75%                           0.000000  \n",
       "max                           4.767442  "
      ]
     },
     "execution_count": 59,
     "metadata": {},
     "output_type": "execute_result"
    }
   ],
   "source": [
    "step_consistency_test_droped_high_errors.loc[:, (\"MergedToDailyPercentDifference\", \"MergedtoHourlyPercentDifference\", \"MergedtoMinutePercentDifference\")].describe()"
   ]
  },
  {
   "cell_type": "code",
   "execution_count": 60,
   "id": "f3923d75",
   "metadata": {
    "scrolled": true
   },
   "outputs": [],
   "source": [
    "daily_activity = daily_activity[daily_activity.index.isin(step_consistency_test_droped_high_errors.index)]"
   ]
  },
  {
   "cell_type": "code",
   "execution_count": 61,
   "id": "43ada319",
   "metadata": {},
   "outputs": [
    {
     "data": {
      "text/plain": [
       "33"
      ]
     },
     "execution_count": 61,
     "metadata": {},
     "output_type": "execute_result"
    }
   ],
   "source": [
    "len(daily_activity[\"Id\"].unique())"
   ]
  },
  {
   "cell_type": "code",
   "execution_count": 62,
   "id": "9eb41e4c",
   "metadata": {},
   "outputs": [
    {
     "data": {
      "text/plain": [
       "23"
      ]
     },
     "execution_count": 62,
     "metadata": {},
     "output_type": "execute_result"
    }
   ],
   "source": [
    "(daily_activity[\"Id\"].value_counts() >= 28).sum()"
   ]
  },
  {
   "cell_type": "markdown",
   "id": "8ba5ac29",
   "metadata": {},
   "source": [
    "Observations with more than 5% difference between daily steps, and daily steps calculated from hourly steps were removed."
   ]
  },
  {
   "cell_type": "markdown",
   "id": "430f4898",
   "metadata": {},
   "source": [
    "<h2>Hourly Intensities</h2>"
   ]
  },
  {
   "cell_type": "code",
   "execution_count": 63,
   "id": "fd3c3591",
   "metadata": {},
   "outputs": [],
   "source": [
    "hourly_intensities = pandas.read_csv(\"hourlyIntensities_merged.csv\")"
   ]
  },
  {
   "cell_type": "code",
   "execution_count": 64,
   "id": "2ec4093c",
   "metadata": {},
   "outputs": [
    {
     "data": {
      "text/html": [
       "<div>\n",
       "<style scoped>\n",
       "    .dataframe tbody tr th:only-of-type {\n",
       "        vertical-align: middle;\n",
       "    }\n",
       "\n",
       "    .dataframe tbody tr th {\n",
       "        vertical-align: top;\n",
       "    }\n",
       "\n",
       "    .dataframe thead th {\n",
       "        text-align: right;\n",
       "    }\n",
       "</style>\n",
       "<table border=\"1\" class=\"dataframe\">\n",
       "  <thead>\n",
       "    <tr style=\"text-align: right;\">\n",
       "      <th></th>\n",
       "      <th>Id</th>\n",
       "      <th>ActivityHour</th>\n",
       "      <th>TotalIntensity</th>\n",
       "      <th>AverageIntensity</th>\n",
       "    </tr>\n",
       "  </thead>\n",
       "  <tbody>\n",
       "    <tr>\n",
       "      <th>0</th>\n",
       "      <td>1503960366</td>\n",
       "      <td>4/12/2016 12:00:00 AM</td>\n",
       "      <td>20</td>\n",
       "      <td>0.333333</td>\n",
       "    </tr>\n",
       "    <tr>\n",
       "      <th>1</th>\n",
       "      <td>1503960366</td>\n",
       "      <td>4/12/2016 1:00:00 AM</td>\n",
       "      <td>8</td>\n",
       "      <td>0.133333</td>\n",
       "    </tr>\n",
       "    <tr>\n",
       "      <th>2</th>\n",
       "      <td>1503960366</td>\n",
       "      <td>4/12/2016 2:00:00 AM</td>\n",
       "      <td>7</td>\n",
       "      <td>0.116667</td>\n",
       "    </tr>\n",
       "    <tr>\n",
       "      <th>3</th>\n",
       "      <td>1503960366</td>\n",
       "      <td>4/12/2016 3:00:00 AM</td>\n",
       "      <td>0</td>\n",
       "      <td>0.000000</td>\n",
       "    </tr>\n",
       "    <tr>\n",
       "      <th>4</th>\n",
       "      <td>1503960366</td>\n",
       "      <td>4/12/2016 4:00:00 AM</td>\n",
       "      <td>0</td>\n",
       "      <td>0.000000</td>\n",
       "    </tr>\n",
       "  </tbody>\n",
       "</table>\n",
       "</div>"
      ],
      "text/plain": [
       "           Id           ActivityHour  TotalIntensity  AverageIntensity\n",
       "0  1503960366  4/12/2016 12:00:00 AM              20          0.333333\n",
       "1  1503960366   4/12/2016 1:00:00 AM               8          0.133333\n",
       "2  1503960366   4/12/2016 2:00:00 AM               7          0.116667\n",
       "3  1503960366   4/12/2016 3:00:00 AM               0          0.000000\n",
       "4  1503960366   4/12/2016 4:00:00 AM               0          0.000000"
      ]
     },
     "execution_count": 64,
     "metadata": {},
     "output_type": "execute_result"
    }
   ],
   "source": [
    "hourly_intensities.head()"
   ]
  },
  {
   "cell_type": "code",
   "execution_count": 65,
   "id": "a5d52faf",
   "metadata": {
    "scrolled": true
   },
   "outputs": [
    {
     "data": {
      "text/plain": [
       "Id                    int64\n",
       "ActivityHour         object\n",
       "TotalIntensity        int64\n",
       "AverageIntensity    float64\n",
       "dtype: object"
      ]
     },
     "execution_count": 65,
     "metadata": {},
     "output_type": "execute_result"
    }
   ],
   "source": [
    "hourly_intensities.dtypes"
   ]
  },
  {
   "cell_type": "code",
   "execution_count": 66,
   "id": "84f32172",
   "metadata": {},
   "outputs": [],
   "source": [
    "hourly_intensities[\"ActivityHour\"] = pandas.to_datetime(hourly_intensities[\"ActivityHour\"], format = \"%m/%d/%Y %I:%M:%S %p\")"
   ]
  },
  {
   "cell_type": "code",
   "execution_count": 67,
   "id": "4226d0e7",
   "metadata": {
    "scrolled": true
   },
   "outputs": [
    {
     "data": {
      "text/plain": [
       "Id                           int64\n",
       "ActivityHour        datetime64[ns]\n",
       "TotalIntensity               int64\n",
       "AverageIntensity           float64\n",
       "dtype: object"
      ]
     },
     "execution_count": 67,
     "metadata": {},
     "output_type": "execute_result"
    }
   ],
   "source": [
    "hourly_intensities.dtypes"
   ]
  },
  {
   "cell_type": "code",
   "execution_count": 68,
   "id": "649a01d2",
   "metadata": {},
   "outputs": [
    {
     "data": {
      "text/plain": [
       "(22099, 4)"
      ]
     },
     "execution_count": 68,
     "metadata": {},
     "output_type": "execute_result"
    }
   ],
   "source": [
    "hourly_intensities.shape"
   ]
  },
  {
   "cell_type": "code",
   "execution_count": 69,
   "id": "87ce05b3",
   "metadata": {},
   "outputs": [
    {
     "data": {
      "text/plain": [
       "33"
      ]
     },
     "execution_count": 69,
     "metadata": {},
     "output_type": "execute_result"
    }
   ],
   "source": [
    "len(hourly_intensities[\"Id\"].unique())"
   ]
  },
  {
   "cell_type": "code",
   "execution_count": 70,
   "id": "987ddeb5",
   "metadata": {},
   "outputs": [
    {
     "data": {
      "text/plain": [
       "False"
      ]
     },
     "execution_count": 70,
     "metadata": {},
     "output_type": "execute_result"
    }
   ],
   "source": [
    "hourly_intensities.isna().values.any()"
   ]
  },
  {
   "cell_type": "code",
   "execution_count": 71,
   "id": "d8387ba6",
   "metadata": {},
   "outputs": [
    {
     "data": {
      "text/plain": [
       "False"
      ]
     },
     "execution_count": 71,
     "metadata": {},
     "output_type": "execute_result"
    }
   ],
   "source": [
    "hourly_intensities.duplicated().any()"
   ]
  },
  {
   "cell_type": "markdown",
   "id": "8908ef36",
   "metadata": {},
   "source": [
    "<h2>Minute MET</h2>"
   ]
  },
  {
   "cell_type": "code",
   "execution_count": 72,
   "id": "6a68f1e1",
   "metadata": {},
   "outputs": [],
   "source": [
    "minute_met = pandas.read_csv(\"minuteMETsNarrow_merged.csv\")"
   ]
  },
  {
   "cell_type": "code",
   "execution_count": 73,
   "id": "a7b15c3d",
   "metadata": {},
   "outputs": [
    {
     "data": {
      "text/html": [
       "<div>\n",
       "<style scoped>\n",
       "    .dataframe tbody tr th:only-of-type {\n",
       "        vertical-align: middle;\n",
       "    }\n",
       "\n",
       "    .dataframe tbody tr th {\n",
       "        vertical-align: top;\n",
       "    }\n",
       "\n",
       "    .dataframe thead th {\n",
       "        text-align: right;\n",
       "    }\n",
       "</style>\n",
       "<table border=\"1\" class=\"dataframe\">\n",
       "  <thead>\n",
       "    <tr style=\"text-align: right;\">\n",
       "      <th></th>\n",
       "      <th>Id</th>\n",
       "      <th>ActivityMinute</th>\n",
       "      <th>METs</th>\n",
       "    </tr>\n",
       "  </thead>\n",
       "  <tbody>\n",
       "    <tr>\n",
       "      <th>0</th>\n",
       "      <td>1503960366</td>\n",
       "      <td>4/12/2016 12:00:00 AM</td>\n",
       "      <td>10</td>\n",
       "    </tr>\n",
       "    <tr>\n",
       "      <th>1</th>\n",
       "      <td>1503960366</td>\n",
       "      <td>4/12/2016 12:01:00 AM</td>\n",
       "      <td>10</td>\n",
       "    </tr>\n",
       "    <tr>\n",
       "      <th>2</th>\n",
       "      <td>1503960366</td>\n",
       "      <td>4/12/2016 12:02:00 AM</td>\n",
       "      <td>10</td>\n",
       "    </tr>\n",
       "    <tr>\n",
       "      <th>3</th>\n",
       "      <td>1503960366</td>\n",
       "      <td>4/12/2016 12:03:00 AM</td>\n",
       "      <td>10</td>\n",
       "    </tr>\n",
       "    <tr>\n",
       "      <th>4</th>\n",
       "      <td>1503960366</td>\n",
       "      <td>4/12/2016 12:04:00 AM</td>\n",
       "      <td>10</td>\n",
       "    </tr>\n",
       "  </tbody>\n",
       "</table>\n",
       "</div>"
      ],
      "text/plain": [
       "           Id         ActivityMinute  METs\n",
       "0  1503960366  4/12/2016 12:00:00 AM    10\n",
       "1  1503960366  4/12/2016 12:01:00 AM    10\n",
       "2  1503960366  4/12/2016 12:02:00 AM    10\n",
       "3  1503960366  4/12/2016 12:03:00 AM    10\n",
       "4  1503960366  4/12/2016 12:04:00 AM    10"
      ]
     },
     "execution_count": 73,
     "metadata": {},
     "output_type": "execute_result"
    }
   ],
   "source": [
    "minute_met.head()"
   ]
  },
  {
   "cell_type": "code",
   "execution_count": 74,
   "id": "ee8fd644",
   "metadata": {
    "scrolled": false
   },
   "outputs": [
    {
     "data": {
      "text/plain": [
       "Id                 int64\n",
       "ActivityMinute    object\n",
       "METs               int64\n",
       "dtype: object"
      ]
     },
     "execution_count": 74,
     "metadata": {},
     "output_type": "execute_result"
    }
   ],
   "source": [
    "minute_met.dtypes"
   ]
  },
  {
   "cell_type": "code",
   "execution_count": 75,
   "id": "bf756785",
   "metadata": {},
   "outputs": [],
   "source": [
    "minute_met[\"ActivityMinute\"] = pandas.to_datetime(minute_met[\"ActivityMinute\"], format = \"%m/%d/%Y %I:%M:%S %p\")"
   ]
  },
  {
   "cell_type": "code",
   "execution_count": 76,
   "id": "2fa49bd7",
   "metadata": {},
   "outputs": [
    {
     "data": {
      "text/plain": [
       "Id                         int64\n",
       "ActivityMinute    datetime64[ns]\n",
       "METs                       int64\n",
       "dtype: object"
      ]
     },
     "execution_count": 76,
     "metadata": {},
     "output_type": "execute_result"
    }
   ],
   "source": [
    "minute_met.dtypes"
   ]
  },
  {
   "cell_type": "code",
   "execution_count": 77,
   "id": "cc8360f0",
   "metadata": {},
   "outputs": [
    {
     "data": {
      "text/plain": [
       "(1325580, 3)"
      ]
     },
     "execution_count": 77,
     "metadata": {},
     "output_type": "execute_result"
    }
   ],
   "source": [
    "minute_met.shape"
   ]
  },
  {
   "cell_type": "code",
   "execution_count": 78,
   "id": "3681964d",
   "metadata": {},
   "outputs": [
    {
     "data": {
      "text/plain": [
       "33"
      ]
     },
     "execution_count": 78,
     "metadata": {},
     "output_type": "execute_result"
    }
   ],
   "source": [
    "len(minute_met[\"Id\"].unique())"
   ]
  },
  {
   "cell_type": "code",
   "execution_count": 79,
   "id": "602d3832",
   "metadata": {},
   "outputs": [
    {
     "data": {
      "text/plain": [
       "False"
      ]
     },
     "execution_count": 79,
     "metadata": {},
     "output_type": "execute_result"
    }
   ],
   "source": [
    "minute_met.isna().values.any()"
   ]
  },
  {
   "cell_type": "code",
   "execution_count": 80,
   "id": "7d20e783",
   "metadata": {
    "scrolled": true
   },
   "outputs": [
    {
     "data": {
      "text/plain": [
       "False"
      ]
     },
     "execution_count": 80,
     "metadata": {},
     "output_type": "execute_result"
    }
   ],
   "source": [
    "minute_met.duplicated().any()"
   ]
  },
  {
   "cell_type": "code",
   "execution_count": 81,
   "id": "57f9168b",
   "metadata": {},
   "outputs": [],
   "source": [
    "minute_met_min = minute_met.copy()"
   ]
  },
  {
   "cell_type": "code",
   "execution_count": 82,
   "id": "fd500497",
   "metadata": {},
   "outputs": [],
   "source": [
    "minute_met_min[\"ActivityMinute\"] = minute_met_min[\"ActivityMinute\"].dt.strftime(\"%H:%M:%S\")"
   ]
  },
  {
   "cell_type": "code",
   "execution_count": 83,
   "id": "55721903",
   "metadata": {
    "scrolled": true
   },
   "outputs": [],
   "source": [
    "grouped_met_min = minute_met_min.groupby([\"ActivityMinute\"])[\"METs\"].describe()"
   ]
  },
  {
   "cell_type": "code",
   "execution_count": 84,
   "id": "61239796",
   "metadata": {
    "scrolled": true
   },
   "outputs": [
    {
     "name": "stdout",
     "output_type": "stream",
     "text": [
      "The history saving thread hit an unexpected error (OperationalError('database is locked')).History will not be written to the database.\n"
     ]
    },
    {
     "data": {
      "text/html": [
       "<div>\n",
       "<style scoped>\n",
       "    .dataframe tbody tr th:only-of-type {\n",
       "        vertical-align: middle;\n",
       "    }\n",
       "\n",
       "    .dataframe tbody tr th {\n",
       "        vertical-align: top;\n",
       "    }\n",
       "\n",
       "    .dataframe thead th {\n",
       "        text-align: right;\n",
       "    }\n",
       "</style>\n",
       "<table border=\"1\" class=\"dataframe\">\n",
       "  <thead>\n",
       "    <tr style=\"text-align: right;\">\n",
       "      <th></th>\n",
       "      <th>count</th>\n",
       "      <th>mean</th>\n",
       "      <th>std</th>\n",
       "      <th>min</th>\n",
       "      <th>25%</th>\n",
       "      <th>50%</th>\n",
       "      <th>75%</th>\n",
       "      <th>max</th>\n",
       "    </tr>\n",
       "    <tr>\n",
       "      <th>ActivityMinute</th>\n",
       "      <th></th>\n",
       "      <th></th>\n",
       "      <th></th>\n",
       "      <th></th>\n",
       "      <th></th>\n",
       "      <th></th>\n",
       "      <th></th>\n",
       "      <th></th>\n",
       "    </tr>\n",
       "  </thead>\n",
       "  <tbody>\n",
       "    <tr>\n",
       "      <th>00:00:00</th>\n",
       "      <td>934.0</td>\n",
       "      <td>11.688437</td>\n",
       "      <td>9.057299</td>\n",
       "      <td>10.0</td>\n",
       "      <td>10.0</td>\n",
       "      <td>10.0</td>\n",
       "      <td>10.0</td>\n",
       "      <td>133.0</td>\n",
       "    </tr>\n",
       "    <tr>\n",
       "      <th>02:00:00</th>\n",
       "      <td>933.0</td>\n",
       "      <td>10.534834</td>\n",
       "      <td>3.888483</td>\n",
       "      <td>10.0</td>\n",
       "      <td>10.0</td>\n",
       "      <td>10.0</td>\n",
       "      <td>10.0</td>\n",
       "      <td>80.0</td>\n",
       "    </tr>\n",
       "    <tr>\n",
       "      <th>04:00:00</th>\n",
       "      <td>932.0</td>\n",
       "      <td>10.211373</td>\n",
       "      <td>2.178737</td>\n",
       "      <td>10.0</td>\n",
       "      <td>10.0</td>\n",
       "      <td>10.0</td>\n",
       "      <td>10.0</td>\n",
       "      <td>52.0</td>\n",
       "    </tr>\n",
       "    <tr>\n",
       "      <th>08:00:00</th>\n",
       "      <td>931.0</td>\n",
       "      <td>15.264232</td>\n",
       "      <td>11.634348</td>\n",
       "      <td>10.0</td>\n",
       "      <td>10.0</td>\n",
       "      <td>10.0</td>\n",
       "      <td>12.0</td>\n",
       "      <td>96.0</td>\n",
       "    </tr>\n",
       "    <tr>\n",
       "      <th>10:00:00</th>\n",
       "      <td>929.0</td>\n",
       "      <td>16.525296</td>\n",
       "      <td>13.646067</td>\n",
       "      <td>10.0</td>\n",
       "      <td>10.0</td>\n",
       "      <td>10.0</td>\n",
       "      <td>13.0</td>\n",
       "      <td>138.0</td>\n",
       "    </tr>\n",
       "    <tr>\n",
       "      <th>12:00:00</th>\n",
       "      <td>922.0</td>\n",
       "      <td>17.200651</td>\n",
       "      <td>13.476641</td>\n",
       "      <td>10.0</td>\n",
       "      <td>10.0</td>\n",
       "      <td>11.0</td>\n",
       "      <td>24.0</td>\n",
       "      <td>113.0</td>\n",
       "    </tr>\n",
       "    <tr>\n",
       "      <th>14:00:00</th>\n",
       "      <td>918.0</td>\n",
       "      <td>18.245098</td>\n",
       "      <td>15.911281</td>\n",
       "      <td>10.0</td>\n",
       "      <td>10.0</td>\n",
       "      <td>11.0</td>\n",
       "      <td>24.0</td>\n",
       "      <td>129.0</td>\n",
       "    </tr>\n",
       "    <tr>\n",
       "      <th>16:00:00</th>\n",
       "      <td>907.0</td>\n",
       "      <td>16.471885</td>\n",
       "      <td>12.949641</td>\n",
       "      <td>10.0</td>\n",
       "      <td>10.0</td>\n",
       "      <td>11.0</td>\n",
       "      <td>13.0</td>\n",
       "      <td>129.0</td>\n",
       "    </tr>\n",
       "    <tr>\n",
       "      <th>18:00:00</th>\n",
       "      <td>906.0</td>\n",
       "      <td>18.584989</td>\n",
       "      <td>15.690021</td>\n",
       "      <td>10.0</td>\n",
       "      <td>10.0</td>\n",
       "      <td>11.0</td>\n",
       "      <td>24.0</td>\n",
       "      <td>133.0</td>\n",
       "    </tr>\n",
       "    <tr>\n",
       "      <th>20:00:00</th>\n",
       "      <td>906.0</td>\n",
       "      <td>16.835541</td>\n",
       "      <td>13.277177</td>\n",
       "      <td>10.0</td>\n",
       "      <td>10.0</td>\n",
       "      <td>11.0</td>\n",
       "      <td>14.0</td>\n",
       "      <td>125.0</td>\n",
       "    </tr>\n",
       "    <tr>\n",
       "      <th>22:00:00</th>\n",
       "      <td>904.0</td>\n",
       "      <td>14.613938</td>\n",
       "      <td>12.037606</td>\n",
       "      <td>10.0</td>\n",
       "      <td>10.0</td>\n",
       "      <td>10.0</td>\n",
       "      <td>12.0</td>\n",
       "      <td>140.0</td>\n",
       "    </tr>\n",
       "  </tbody>\n",
       "</table>\n",
       "</div>"
      ],
      "text/plain": [
       "                count       mean        std   min   25%   50%   75%    max\n",
       "ActivityMinute                                                            \n",
       "00:00:00        934.0  11.688437   9.057299  10.0  10.0  10.0  10.0  133.0\n",
       "02:00:00        933.0  10.534834   3.888483  10.0  10.0  10.0  10.0   80.0\n",
       "04:00:00        932.0  10.211373   2.178737  10.0  10.0  10.0  10.0   52.0\n",
       "08:00:00        931.0  15.264232  11.634348  10.0  10.0  10.0  12.0   96.0\n",
       "10:00:00        929.0  16.525296  13.646067  10.0  10.0  10.0  13.0  138.0\n",
       "12:00:00        922.0  17.200651  13.476641  10.0  10.0  11.0  24.0  113.0\n",
       "14:00:00        918.0  18.245098  15.911281  10.0  10.0  11.0  24.0  129.0\n",
       "16:00:00        907.0  16.471885  12.949641  10.0  10.0  11.0  13.0  129.0\n",
       "18:00:00        906.0  18.584989  15.690021  10.0  10.0  11.0  24.0  133.0\n",
       "20:00:00        906.0  16.835541  13.277177  10.0  10.0  11.0  14.0  125.0\n",
       "22:00:00        904.0  14.613938  12.037606  10.0  10.0  10.0  12.0  140.0"
      ]
     },
     "execution_count": 84,
     "metadata": {},
     "output_type": "execute_result"
    }
   ],
   "source": [
    "grouped_met_min[grouped_met_min.index.isin([\"00:00:00\", \"02:00:00\", \"04:00:00\", \"6:00:00\", \"08:00:00\", \"10:00:00\", \"12:00:00\", \"14:00:00\", \"16:00:00\", \"18:00:00\", \"20:00:00\", \"22:00:00\"])]"
   ]
  },
  {
   "cell_type": "markdown",
   "id": "5c0016ba",
   "metadata": {},
   "source": [
    "MET is defined as a rate of energy expended during an activity compared to the rate of energy expended during rest. The summary table above shows that during sleep hours (~midnight to 8 am) there is no difference in MET values between the quartiles, which is expected as energy expenditure of sleeping people is virtually the same. An increase in the MET values is seen in the 50th and 75th percentiles in later hours, which is likely due to the physical activity of more active people. Although these observations are consistent with the context, at rest and sleep, MET is usually around 1, not 10, suggesting that there is an error in data, or a different definition/equation for MET was used in this dataset. As metadata for this dataset not available, an assumption was made that MET values in the dataset were multiplied by 10. To correct this for further analysis, MET values were divided by 10."
   ]
  },
  {
   "cell_type": "code",
   "execution_count": 85,
   "id": "7c92c2c9",
   "metadata": {},
   "outputs": [],
   "source": [
    "minute_met_h = minute_met.copy()"
   ]
  },
  {
   "cell_type": "code",
   "execution_count": 86,
   "id": "07bb115a",
   "metadata": {},
   "outputs": [],
   "source": [
    "minute_met_h[\"METs\"] = minute_met_h[\"METs\"] / 10"
   ]
  },
  {
   "cell_type": "code",
   "execution_count": 87,
   "id": "bafeac93",
   "metadata": {},
   "outputs": [],
   "source": [
    "minute_met_h[\"ActivityMinute\"] = minute_met_h[\"ActivityMinute\"].dt.strftime(\"%Y-%m-%d\")"
   ]
  },
  {
   "cell_type": "code",
   "execution_count": 88,
   "id": "5fc4f5eb",
   "metadata": {},
   "outputs": [],
   "source": [
    "minute_met_h = minute_met_h.rename(columns={\"ActivityMinute\":\"Date\"})"
   ]
  },
  {
   "cell_type": "code",
   "execution_count": 89,
   "id": "de529c28",
   "metadata": {
    "scrolled": true
   },
   "outputs": [
    {
     "data": {
      "text/plain": [
       "Id        int64\n",
       "Date     object\n",
       "METs    float64\n",
       "dtype: object"
      ]
     },
     "execution_count": 89,
     "metadata": {},
     "output_type": "execute_result"
    }
   ],
   "source": [
    "minute_met_h.dtypes"
   ]
  },
  {
   "cell_type": "code",
   "execution_count": 90,
   "id": "ade35823",
   "metadata": {},
   "outputs": [],
   "source": [
    "average_daily_met = minute_met_h.groupby([\"Id\", \"Date\"]).mean()"
   ]
  },
  {
   "cell_type": "code",
   "execution_count": 91,
   "id": "1d3c42e4",
   "metadata": {
    "scrolled": true
   },
   "outputs": [],
   "source": [
    "average_daily_met = average_daily_met.reset_index()"
   ]
  },
  {
   "cell_type": "code",
   "execution_count": 92,
   "id": "c47d67ba",
   "metadata": {},
   "outputs": [],
   "source": [
    "average_daily_met[\"Date\"] = pandas.to_datetime(average_daily_met[\"Date\"])"
   ]
  },
  {
   "cell_type": "markdown",
   "id": "dec50394",
   "metadata": {},
   "source": [
    "<h2>Daily Sleep</h2>"
   ]
  },
  {
   "cell_type": "code",
   "execution_count": 93,
   "id": "6bc6e3d9",
   "metadata": {},
   "outputs": [],
   "source": [
    "daily_sleep = pandas.read_csv(\"sleepDay_merged.csv\")"
   ]
  },
  {
   "cell_type": "code",
   "execution_count": 94,
   "id": "24bddaeb",
   "metadata": {},
   "outputs": [
    {
     "data": {
      "text/html": [
       "<div>\n",
       "<style scoped>\n",
       "    .dataframe tbody tr th:only-of-type {\n",
       "        vertical-align: middle;\n",
       "    }\n",
       "\n",
       "    .dataframe tbody tr th {\n",
       "        vertical-align: top;\n",
       "    }\n",
       "\n",
       "    .dataframe thead th {\n",
       "        text-align: right;\n",
       "    }\n",
       "</style>\n",
       "<table border=\"1\" class=\"dataframe\">\n",
       "  <thead>\n",
       "    <tr style=\"text-align: right;\">\n",
       "      <th></th>\n",
       "      <th>Id</th>\n",
       "      <th>SleepDay</th>\n",
       "      <th>TotalSleepRecords</th>\n",
       "      <th>TotalMinutesAsleep</th>\n",
       "      <th>TotalTimeInBed</th>\n",
       "    </tr>\n",
       "  </thead>\n",
       "  <tbody>\n",
       "    <tr>\n",
       "      <th>0</th>\n",
       "      <td>1503960366</td>\n",
       "      <td>4/12/2016 12:00:00 AM</td>\n",
       "      <td>1</td>\n",
       "      <td>327</td>\n",
       "      <td>346</td>\n",
       "    </tr>\n",
       "    <tr>\n",
       "      <th>1</th>\n",
       "      <td>1503960366</td>\n",
       "      <td>4/13/2016 12:00:00 AM</td>\n",
       "      <td>2</td>\n",
       "      <td>384</td>\n",
       "      <td>407</td>\n",
       "    </tr>\n",
       "    <tr>\n",
       "      <th>2</th>\n",
       "      <td>1503960366</td>\n",
       "      <td>4/15/2016 12:00:00 AM</td>\n",
       "      <td>1</td>\n",
       "      <td>412</td>\n",
       "      <td>442</td>\n",
       "    </tr>\n",
       "    <tr>\n",
       "      <th>3</th>\n",
       "      <td>1503960366</td>\n",
       "      <td>4/16/2016 12:00:00 AM</td>\n",
       "      <td>2</td>\n",
       "      <td>340</td>\n",
       "      <td>367</td>\n",
       "    </tr>\n",
       "    <tr>\n",
       "      <th>4</th>\n",
       "      <td>1503960366</td>\n",
       "      <td>4/17/2016 12:00:00 AM</td>\n",
       "      <td>1</td>\n",
       "      <td>700</td>\n",
       "      <td>712</td>\n",
       "    </tr>\n",
       "  </tbody>\n",
       "</table>\n",
       "</div>"
      ],
      "text/plain": [
       "           Id               SleepDay  TotalSleepRecords  TotalMinutesAsleep  \\\n",
       "0  1503960366  4/12/2016 12:00:00 AM                  1                 327   \n",
       "1  1503960366  4/13/2016 12:00:00 AM                  2                 384   \n",
       "2  1503960366  4/15/2016 12:00:00 AM                  1                 412   \n",
       "3  1503960366  4/16/2016 12:00:00 AM                  2                 340   \n",
       "4  1503960366  4/17/2016 12:00:00 AM                  1                 700   \n",
       "\n",
       "   TotalTimeInBed  \n",
       "0             346  \n",
       "1             407  \n",
       "2             442  \n",
       "3             367  \n",
       "4             712  "
      ]
     },
     "execution_count": 94,
     "metadata": {},
     "output_type": "execute_result"
    }
   ],
   "source": [
    "daily_sleep.head()"
   ]
  },
  {
   "cell_type": "code",
   "execution_count": 95,
   "id": "6e4d33e4",
   "metadata": {},
   "outputs": [
    {
     "data": {
      "text/plain": [
       "Id                     int64\n",
       "SleepDay              object\n",
       "TotalSleepRecords      int64\n",
       "TotalMinutesAsleep     int64\n",
       "TotalTimeInBed         int64\n",
       "dtype: object"
      ]
     },
     "execution_count": 95,
     "metadata": {},
     "output_type": "execute_result"
    }
   ],
   "source": [
    "daily_sleep.dtypes"
   ]
  },
  {
   "cell_type": "code",
   "execution_count": 96,
   "id": "c3fe5c27",
   "metadata": {},
   "outputs": [],
   "source": [
    "daily_sleep[\"SleepDay\"] = pandas.to_datetime(daily_sleep[\"SleepDay\"], format = \"%m/%d/%Y %I:%M:%S %p\")"
   ]
  },
  {
   "cell_type": "code",
   "execution_count": 97,
   "id": "f5c67579",
   "metadata": {},
   "outputs": [
    {
     "data": {
      "text/plain": [
       "Id                             int64\n",
       "SleepDay              datetime64[ns]\n",
       "TotalSleepRecords              int64\n",
       "TotalMinutesAsleep             int64\n",
       "TotalTimeInBed                 int64\n",
       "dtype: object"
      ]
     },
     "execution_count": 97,
     "metadata": {},
     "output_type": "execute_result"
    }
   ],
   "source": [
    "daily_sleep.dtypes"
   ]
  },
  {
   "cell_type": "code",
   "execution_count": 98,
   "id": "6d8993d9",
   "metadata": {},
   "outputs": [
    {
     "data": {
      "text/plain": [
       "(413, 5)"
      ]
     },
     "execution_count": 98,
     "metadata": {},
     "output_type": "execute_result"
    }
   ],
   "source": [
    "daily_sleep.shape"
   ]
  },
  {
   "cell_type": "code",
   "execution_count": 99,
   "id": "274b9f8a",
   "metadata": {
    "scrolled": true
   },
   "outputs": [
    {
     "data": {
      "text/plain": [
       "24"
      ]
     },
     "execution_count": 99,
     "metadata": {},
     "output_type": "execute_result"
    }
   ],
   "source": [
    "len(daily_sleep[\"Id\"].unique())"
   ]
  },
  {
   "cell_type": "code",
   "execution_count": 100,
   "id": "4bb7a97f",
   "metadata": {
    "scrolled": true
   },
   "outputs": [
    {
     "data": {
      "text/plain": [
       "8378563200    32\n",
       "6962181067    31\n",
       "5553957443    31\n",
       "4702921684    28\n",
       "2026352035    28\n",
       "3977333714    28\n",
       "4445114986    28\n",
       "5577150313    26\n",
       "4319703577    26\n",
       "1503960366    25\n",
       "7086361926    24\n",
       "4388161847    24\n",
       "6117666160    18\n",
       "8792009665    15\n",
       "2347167796    15\n",
       "4020332650     8\n",
       "1927972279     5\n",
       "4558609924     5\n",
       "1644430081     4\n",
       "6775888955     3\n",
       "8053475328     3\n",
       "1844505072     3\n",
       "7007744171     2\n",
       "2320127002     1\n",
       "Name: Id, dtype: int64"
      ]
     },
     "execution_count": 100,
     "metadata": {},
     "output_type": "execute_result"
    }
   ],
   "source": [
    "daily_sleep[\"Id\"].value_counts()"
   ]
  },
  {
   "cell_type": "code",
   "execution_count": 101,
   "id": "43945f1f",
   "metadata": {},
   "outputs": [
    {
     "data": {
      "text/plain": [
       "False"
      ]
     },
     "execution_count": 101,
     "metadata": {},
     "output_type": "execute_result"
    }
   ],
   "source": [
    "daily_sleep.isna().values.any()"
   ]
  },
  {
   "cell_type": "code",
   "execution_count": 102,
   "id": "2c346c84",
   "metadata": {
    "scrolled": true
   },
   "outputs": [
    {
     "data": {
      "text/plain": [
       "True"
      ]
     },
     "execution_count": 102,
     "metadata": {},
     "output_type": "execute_result"
    }
   ],
   "source": [
    "daily_sleep.duplicated().any()"
   ]
  },
  {
   "cell_type": "code",
   "execution_count": 103,
   "id": "0236261a",
   "metadata": {
    "scrolled": true
   },
   "outputs": [
    {
     "data": {
      "text/html": [
       "<div>\n",
       "<style scoped>\n",
       "    .dataframe tbody tr th:only-of-type {\n",
       "        vertical-align: middle;\n",
       "    }\n",
       "\n",
       "    .dataframe tbody tr th {\n",
       "        vertical-align: top;\n",
       "    }\n",
       "\n",
       "    .dataframe thead th {\n",
       "        text-align: right;\n",
       "    }\n",
       "</style>\n",
       "<table border=\"1\" class=\"dataframe\">\n",
       "  <thead>\n",
       "    <tr style=\"text-align: right;\">\n",
       "      <th></th>\n",
       "      <th>Id</th>\n",
       "      <th>SleepDay</th>\n",
       "      <th>TotalSleepRecords</th>\n",
       "      <th>TotalMinutesAsleep</th>\n",
       "      <th>TotalTimeInBed</th>\n",
       "    </tr>\n",
       "  </thead>\n",
       "  <tbody>\n",
       "    <tr>\n",
       "      <th>160</th>\n",
       "      <td>4388161847</td>\n",
       "      <td>2016-05-05</td>\n",
       "      <td>1</td>\n",
       "      <td>471</td>\n",
       "      <td>495</td>\n",
       "    </tr>\n",
       "    <tr>\n",
       "      <th>161</th>\n",
       "      <td>4388161847</td>\n",
       "      <td>2016-05-05</td>\n",
       "      <td>1</td>\n",
       "      <td>471</td>\n",
       "      <td>495</td>\n",
       "    </tr>\n",
       "    <tr>\n",
       "      <th>222</th>\n",
       "      <td>4702921684</td>\n",
       "      <td>2016-05-07</td>\n",
       "      <td>1</td>\n",
       "      <td>520</td>\n",
       "      <td>543</td>\n",
       "    </tr>\n",
       "    <tr>\n",
       "      <th>223</th>\n",
       "      <td>4702921684</td>\n",
       "      <td>2016-05-07</td>\n",
       "      <td>1</td>\n",
       "      <td>520</td>\n",
       "      <td>543</td>\n",
       "    </tr>\n",
       "    <tr>\n",
       "      <th>379</th>\n",
       "      <td>8378563200</td>\n",
       "      <td>2016-04-25</td>\n",
       "      <td>1</td>\n",
       "      <td>388</td>\n",
       "      <td>402</td>\n",
       "    </tr>\n",
       "    <tr>\n",
       "      <th>380</th>\n",
       "      <td>8378563200</td>\n",
       "      <td>2016-04-25</td>\n",
       "      <td>1</td>\n",
       "      <td>388</td>\n",
       "      <td>402</td>\n",
       "    </tr>\n",
       "  </tbody>\n",
       "</table>\n",
       "</div>"
      ],
      "text/plain": [
       "             Id   SleepDay  TotalSleepRecords  TotalMinutesAsleep  \\\n",
       "160  4388161847 2016-05-05                  1                 471   \n",
       "161  4388161847 2016-05-05                  1                 471   \n",
       "222  4702921684 2016-05-07                  1                 520   \n",
       "223  4702921684 2016-05-07                  1                 520   \n",
       "379  8378563200 2016-04-25                  1                 388   \n",
       "380  8378563200 2016-04-25                  1                 388   \n",
       "\n",
       "     TotalTimeInBed  \n",
       "160             495  \n",
       "161             495  \n",
       "222             543  \n",
       "223             543  \n",
       "379             402  \n",
       "380             402  "
      ]
     },
     "execution_count": 103,
     "metadata": {},
     "output_type": "execute_result"
    }
   ],
   "source": [
    "daily_sleep[daily_sleep.duplicated(keep=False)]"
   ]
  },
  {
   "cell_type": "code",
   "execution_count": 104,
   "id": "820526a4",
   "metadata": {},
   "outputs": [],
   "source": [
    "daily_sleep = daily_sleep.drop_duplicates()"
   ]
  },
  {
   "cell_type": "code",
   "execution_count": 105,
   "id": "248039bf",
   "metadata": {},
   "outputs": [
    {
     "data": {
      "text/plain": [
       "False"
      ]
     },
     "execution_count": 105,
     "metadata": {},
     "output_type": "execute_result"
    }
   ],
   "source": [
    "daily_sleep.duplicated().any()"
   ]
  },
  {
   "cell_type": "markdown",
   "id": "6ae446f1",
   "metadata": {},
   "source": [
    "<h2>Weight Log</h2>"
   ]
  },
  {
   "cell_type": "code",
   "execution_count": 106,
   "id": "c85768f4",
   "metadata": {},
   "outputs": [],
   "source": [
    "weight_log = pandas.read_csv(\"weightLogInfo_merged.csv\")"
   ]
  },
  {
   "cell_type": "code",
   "execution_count": 107,
   "id": "d5f7d596",
   "metadata": {},
   "outputs": [
    {
     "data": {
      "text/html": [
       "<div>\n",
       "<style scoped>\n",
       "    .dataframe tbody tr th:only-of-type {\n",
       "        vertical-align: middle;\n",
       "    }\n",
       "\n",
       "    .dataframe tbody tr th {\n",
       "        vertical-align: top;\n",
       "    }\n",
       "\n",
       "    .dataframe thead th {\n",
       "        text-align: right;\n",
       "    }\n",
       "</style>\n",
       "<table border=\"1\" class=\"dataframe\">\n",
       "  <thead>\n",
       "    <tr style=\"text-align: right;\">\n",
       "      <th></th>\n",
       "      <th>Id</th>\n",
       "      <th>Date</th>\n",
       "      <th>WeightKg</th>\n",
       "      <th>WeightPounds</th>\n",
       "      <th>Fat</th>\n",
       "      <th>BMI</th>\n",
       "      <th>IsManualReport</th>\n",
       "      <th>LogId</th>\n",
       "    </tr>\n",
       "  </thead>\n",
       "  <tbody>\n",
       "    <tr>\n",
       "      <th>0</th>\n",
       "      <td>1503960366</td>\n",
       "      <td>5/2/2016 11:59:59 PM</td>\n",
       "      <td>52.599998</td>\n",
       "      <td>115.963147</td>\n",
       "      <td>22.0</td>\n",
       "      <td>22.650000</td>\n",
       "      <td>True</td>\n",
       "      <td>1462233599000</td>\n",
       "    </tr>\n",
       "    <tr>\n",
       "      <th>1</th>\n",
       "      <td>1503960366</td>\n",
       "      <td>5/3/2016 11:59:59 PM</td>\n",
       "      <td>52.599998</td>\n",
       "      <td>115.963147</td>\n",
       "      <td>NaN</td>\n",
       "      <td>22.650000</td>\n",
       "      <td>True</td>\n",
       "      <td>1462319999000</td>\n",
       "    </tr>\n",
       "    <tr>\n",
       "      <th>2</th>\n",
       "      <td>1927972279</td>\n",
       "      <td>4/13/2016 1:08:52 AM</td>\n",
       "      <td>133.500000</td>\n",
       "      <td>294.317120</td>\n",
       "      <td>NaN</td>\n",
       "      <td>47.540001</td>\n",
       "      <td>False</td>\n",
       "      <td>1460509732000</td>\n",
       "    </tr>\n",
       "    <tr>\n",
       "      <th>3</th>\n",
       "      <td>2873212765</td>\n",
       "      <td>4/21/2016 11:59:59 PM</td>\n",
       "      <td>56.700001</td>\n",
       "      <td>125.002104</td>\n",
       "      <td>NaN</td>\n",
       "      <td>21.450001</td>\n",
       "      <td>True</td>\n",
       "      <td>1461283199000</td>\n",
       "    </tr>\n",
       "    <tr>\n",
       "      <th>4</th>\n",
       "      <td>2873212765</td>\n",
       "      <td>5/12/2016 11:59:59 PM</td>\n",
       "      <td>57.299999</td>\n",
       "      <td>126.324875</td>\n",
       "      <td>NaN</td>\n",
       "      <td>21.690001</td>\n",
       "      <td>True</td>\n",
       "      <td>1463097599000</td>\n",
       "    </tr>\n",
       "  </tbody>\n",
       "</table>\n",
       "</div>"
      ],
      "text/plain": [
       "           Id                   Date    WeightKg  WeightPounds   Fat  \\\n",
       "0  1503960366   5/2/2016 11:59:59 PM   52.599998    115.963147  22.0   \n",
       "1  1503960366   5/3/2016 11:59:59 PM   52.599998    115.963147   NaN   \n",
       "2  1927972279   4/13/2016 1:08:52 AM  133.500000    294.317120   NaN   \n",
       "3  2873212765  4/21/2016 11:59:59 PM   56.700001    125.002104   NaN   \n",
       "4  2873212765  5/12/2016 11:59:59 PM   57.299999    126.324875   NaN   \n",
       "\n",
       "         BMI  IsManualReport          LogId  \n",
       "0  22.650000            True  1462233599000  \n",
       "1  22.650000            True  1462319999000  \n",
       "2  47.540001           False  1460509732000  \n",
       "3  21.450001            True  1461283199000  \n",
       "4  21.690001            True  1463097599000  "
      ]
     },
     "execution_count": 107,
     "metadata": {},
     "output_type": "execute_result"
    }
   ],
   "source": [
    "weight_log.head()"
   ]
  },
  {
   "cell_type": "code",
   "execution_count": 108,
   "id": "cfbdeb1a",
   "metadata": {
    "scrolled": true
   },
   "outputs": [
    {
     "data": {
      "text/plain": [
       "Id                  int64\n",
       "Date               object\n",
       "WeightKg          float64\n",
       "WeightPounds      float64\n",
       "Fat               float64\n",
       "BMI               float64\n",
       "IsManualReport       bool\n",
       "LogId               int64\n",
       "dtype: object"
      ]
     },
     "execution_count": 108,
     "metadata": {},
     "output_type": "execute_result"
    }
   ],
   "source": [
    "weight_log.dtypes"
   ]
  },
  {
   "cell_type": "code",
   "execution_count": 109,
   "id": "9d99077b",
   "metadata": {},
   "outputs": [],
   "source": [
    "weight_log[\"Date\"] = pandas.to_datetime(weight_log[\"Date\"], format = \"%m/%d/%Y %I:%M:%S %p\")"
   ]
  },
  {
   "cell_type": "code",
   "execution_count": 110,
   "id": "ed8aa2e4",
   "metadata": {},
   "outputs": [
    {
     "data": {
      "text/plain": [
       "Id                         int64\n",
       "Date              datetime64[ns]\n",
       "WeightKg                 float64\n",
       "WeightPounds             float64\n",
       "Fat                      float64\n",
       "BMI                      float64\n",
       "IsManualReport              bool\n",
       "LogId                      int64\n",
       "dtype: object"
      ]
     },
     "execution_count": 110,
     "metadata": {},
     "output_type": "execute_result"
    }
   ],
   "source": [
    "weight_log.dtypes"
   ]
  },
  {
   "cell_type": "code",
   "execution_count": 111,
   "id": "02355eff",
   "metadata": {},
   "outputs": [
    {
     "data": {
      "text/plain": [
       "(67, 8)"
      ]
     },
     "execution_count": 111,
     "metadata": {},
     "output_type": "execute_result"
    }
   ],
   "source": [
    "weight_log.shape"
   ]
  },
  {
   "cell_type": "code",
   "execution_count": 112,
   "id": "a1329788",
   "metadata": {},
   "outputs": [
    {
     "data": {
      "text/plain": [
       "8"
      ]
     },
     "execution_count": 112,
     "metadata": {},
     "output_type": "execute_result"
    }
   ],
   "source": [
    "len(weight_log[\"Id\"].unique())"
   ]
  },
  {
   "cell_type": "code",
   "execution_count": 113,
   "id": "74cd0379",
   "metadata": {},
   "outputs": [
    {
     "data": {
      "text/plain": [
       "6962181067    30\n",
       "8877689391    24\n",
       "4558609924     5\n",
       "1503960366     2\n",
       "2873212765     2\n",
       "4319703577     2\n",
       "1927972279     1\n",
       "5577150313     1\n",
       "Name: Id, dtype: int64"
      ]
     },
     "execution_count": 113,
     "metadata": {},
     "output_type": "execute_result"
    }
   ],
   "source": [
    "weight_log[\"Id\"].value_counts()"
   ]
  },
  {
   "cell_type": "code",
   "execution_count": 114,
   "id": "c9b3a24a",
   "metadata": {
    "scrolled": true
   },
   "outputs": [
    {
     "data": {
      "text/plain": [
       "Id                False\n",
       "Date              False\n",
       "WeightKg          False\n",
       "WeightPounds      False\n",
       "Fat                True\n",
       "BMI               False\n",
       "IsManualReport    False\n",
       "LogId             False\n",
       "dtype: bool"
      ]
     },
     "execution_count": 114,
     "metadata": {},
     "output_type": "execute_result"
    }
   ],
   "source": [
    "weight_log.isna().any()"
   ]
  },
  {
   "cell_type": "code",
   "execution_count": 115,
   "id": "0bdd1835",
   "metadata": {},
   "outputs": [
    {
     "data": {
      "text/html": [
       "<div>\n",
       "<style scoped>\n",
       "    .dataframe tbody tr th:only-of-type {\n",
       "        vertical-align: middle;\n",
       "    }\n",
       "\n",
       "    .dataframe tbody tr th {\n",
       "        vertical-align: top;\n",
       "    }\n",
       "\n",
       "    .dataframe thead th {\n",
       "        text-align: right;\n",
       "    }\n",
       "</style>\n",
       "<table border=\"1\" class=\"dataframe\">\n",
       "  <thead>\n",
       "    <tr style=\"text-align: right;\">\n",
       "      <th></th>\n",
       "      <th>Id</th>\n",
       "      <th>Date</th>\n",
       "      <th>WeightKg</th>\n",
       "      <th>WeightPounds</th>\n",
       "      <th>Fat</th>\n",
       "      <th>BMI</th>\n",
       "      <th>IsManualReport</th>\n",
       "      <th>LogId</th>\n",
       "    </tr>\n",
       "  </thead>\n",
       "  <tbody>\n",
       "    <tr>\n",
       "      <th>1</th>\n",
       "      <td>1503960366</td>\n",
       "      <td>2016-05-03 23:59:59</td>\n",
       "      <td>52.599998</td>\n",
       "      <td>115.963147</td>\n",
       "      <td>NaN</td>\n",
       "      <td>22.650000</td>\n",
       "      <td>True</td>\n",
       "      <td>1462319999000</td>\n",
       "    </tr>\n",
       "    <tr>\n",
       "      <th>2</th>\n",
       "      <td>1927972279</td>\n",
       "      <td>2016-04-13 01:08:52</td>\n",
       "      <td>133.500000</td>\n",
       "      <td>294.317120</td>\n",
       "      <td>NaN</td>\n",
       "      <td>47.540001</td>\n",
       "      <td>False</td>\n",
       "      <td>1460509732000</td>\n",
       "    </tr>\n",
       "    <tr>\n",
       "      <th>3</th>\n",
       "      <td>2873212765</td>\n",
       "      <td>2016-04-21 23:59:59</td>\n",
       "      <td>56.700001</td>\n",
       "      <td>125.002104</td>\n",
       "      <td>NaN</td>\n",
       "      <td>21.450001</td>\n",
       "      <td>True</td>\n",
       "      <td>1461283199000</td>\n",
       "    </tr>\n",
       "    <tr>\n",
       "      <th>4</th>\n",
       "      <td>2873212765</td>\n",
       "      <td>2016-05-12 23:59:59</td>\n",
       "      <td>57.299999</td>\n",
       "      <td>126.324875</td>\n",
       "      <td>NaN</td>\n",
       "      <td>21.690001</td>\n",
       "      <td>True</td>\n",
       "      <td>1463097599000</td>\n",
       "    </tr>\n",
       "    <tr>\n",
       "      <th>6</th>\n",
       "      <td>4319703577</td>\n",
       "      <td>2016-05-04 23:59:59</td>\n",
       "      <td>72.300003</td>\n",
       "      <td>159.394222</td>\n",
       "      <td>NaN</td>\n",
       "      <td>27.379999</td>\n",
       "      <td>True</td>\n",
       "      <td>1462406399000</td>\n",
       "    </tr>\n",
       "  </tbody>\n",
       "</table>\n",
       "</div>"
      ],
      "text/plain": [
       "           Id                Date    WeightKg  WeightPounds  Fat        BMI  \\\n",
       "1  1503960366 2016-05-03 23:59:59   52.599998    115.963147  NaN  22.650000   \n",
       "2  1927972279 2016-04-13 01:08:52  133.500000    294.317120  NaN  47.540001   \n",
       "3  2873212765 2016-04-21 23:59:59   56.700001    125.002104  NaN  21.450001   \n",
       "4  2873212765 2016-05-12 23:59:59   57.299999    126.324875  NaN  21.690001   \n",
       "6  4319703577 2016-05-04 23:59:59   72.300003    159.394222  NaN  27.379999   \n",
       "\n",
       "   IsManualReport          LogId  \n",
       "1            True  1462319999000  \n",
       "2           False  1460509732000  \n",
       "3            True  1461283199000  \n",
       "4            True  1463097599000  \n",
       "6            True  1462406399000  "
      ]
     },
     "execution_count": 115,
     "metadata": {},
     "output_type": "execute_result"
    }
   ],
   "source": [
    "weight_log[weight_log.isna().any(axis=1)].head()"
   ]
  },
  {
   "cell_type": "code",
   "execution_count": 116,
   "id": "e68c7aad",
   "metadata": {},
   "outputs": [
    {
     "data": {
      "text/html": [
       "<div>\n",
       "<style scoped>\n",
       "    .dataframe tbody tr th:only-of-type {\n",
       "        vertical-align: middle;\n",
       "    }\n",
       "\n",
       "    .dataframe tbody tr th {\n",
       "        vertical-align: top;\n",
       "    }\n",
       "\n",
       "    .dataframe thead th {\n",
       "        text-align: right;\n",
       "    }\n",
       "</style>\n",
       "<table border=\"1\" class=\"dataframe\">\n",
       "  <thead>\n",
       "    <tr style=\"text-align: right;\">\n",
       "      <th></th>\n",
       "      <th>Id</th>\n",
       "      <th>Date</th>\n",
       "      <th>WeightKg</th>\n",
       "      <th>WeightPounds</th>\n",
       "      <th>Fat</th>\n",
       "      <th>BMI</th>\n",
       "      <th>IsManualReport</th>\n",
       "      <th>LogId</th>\n",
       "    </tr>\n",
       "  </thead>\n",
       "  <tbody>\n",
       "    <tr>\n",
       "      <th>0</th>\n",
       "      <td>1503960366</td>\n",
       "      <td>2016-05-02 23:59:59</td>\n",
       "      <td>52.599998</td>\n",
       "      <td>115.963147</td>\n",
       "      <td>22.0</td>\n",
       "      <td>22.650000</td>\n",
       "      <td>True</td>\n",
       "      <td>1462233599000</td>\n",
       "    </tr>\n",
       "    <tr>\n",
       "      <th>5</th>\n",
       "      <td>4319703577</td>\n",
       "      <td>2016-04-17 23:59:59</td>\n",
       "      <td>72.400002</td>\n",
       "      <td>159.614681</td>\n",
       "      <td>25.0</td>\n",
       "      <td>27.450001</td>\n",
       "      <td>True</td>\n",
       "      <td>1460937599000</td>\n",
       "    </tr>\n",
       "  </tbody>\n",
       "</table>\n",
       "</div>"
      ],
      "text/plain": [
       "           Id                Date   WeightKg  WeightPounds   Fat        BMI  \\\n",
       "0  1503960366 2016-05-02 23:59:59  52.599998    115.963147  22.0  22.650000   \n",
       "5  4319703577 2016-04-17 23:59:59  72.400002    159.614681  25.0  27.450001   \n",
       "\n",
       "   IsManualReport          LogId  \n",
       "0            True  1462233599000  \n",
       "5            True  1460937599000  "
      ]
     },
     "execution_count": 116,
     "metadata": {},
     "output_type": "execute_result"
    }
   ],
   "source": [
    "weight_log[~weight_log.isna().any(axis=1)]"
   ]
  },
  {
   "cell_type": "code",
   "execution_count": 117,
   "id": "83a6d875",
   "metadata": {},
   "outputs": [
    {
     "data": {
      "text/plain": [
       "False"
      ]
     },
     "execution_count": 117,
     "metadata": {},
     "output_type": "execute_result"
    }
   ],
   "source": [
    "weight_log.duplicated().any()"
   ]
  },
  {
   "cell_type": "markdown",
   "id": "7b265156",
   "metadata": {},
   "source": [
    "<h1>Exploratory Graphs</h1>"
   ]
  },
  {
   "cell_type": "code",
   "execution_count": 118,
   "id": "6a502dd8",
   "metadata": {},
   "outputs": [],
   "source": [
    "import matplotlib.pyplot as plt\n",
    "import numpy as np\n",
    "from scipy.stats import f_oneway, ttest_ind"
   ]
  },
  {
   "cell_type": "markdown",
   "id": "41e95cd5",
   "metadata": {},
   "source": [
    "<h2>Daily Activity and Sleep</h2>"
   ]
  },
  {
   "cell_type": "markdown",
   "id": "e7d41d8b",
   "metadata": {},
   "source": [
    "<h3>Merging Tables</h3>"
   ]
  },
  {
   "cell_type": "code",
   "execution_count": 119,
   "id": "b20002d0",
   "metadata": {},
   "outputs": [],
   "source": [
    "daily_activity_sleep = pandas.merge(daily_sleep, daily_activity, left_on=[\"Id\", \"SleepDay\"], right_on=[\"Id\", \"ActivityDate\"], how=\"inner\")"
   ]
  },
  {
   "cell_type": "code",
   "execution_count": 120,
   "id": "f56ced97",
   "metadata": {},
   "outputs": [],
   "source": [
    "daily_activity_sleep = pandas.merge(daily_activity_sleep, average_daily_met, left_on=[\"Id\", \"SleepDay\"], right_on=[\"Id\", \"Date\"], how=\"inner\")"
   ]
  },
  {
   "cell_type": "code",
   "execution_count": 121,
   "id": "dfc93321",
   "metadata": {},
   "outputs": [],
   "source": [
    "daily_activity_sleep = daily_activity_sleep.drop([\"ActivityDate\", \"Date\"], axis=1)"
   ]
  },
  {
   "cell_type": "code",
   "execution_count": 122,
   "id": "a401fac5",
   "metadata": {},
   "outputs": [],
   "source": [
    "daily_activity_sleep.rename(columns={\"SleepDay\":\"Date\"}, inplace=True)"
   ]
  },
  {
   "cell_type": "code",
   "execution_count": 123,
   "id": "9ce72525",
   "metadata": {
    "scrolled": true
   },
   "outputs": [
    {
     "data": {
      "text/html": [
       "<div>\n",
       "<style scoped>\n",
       "    .dataframe tbody tr th:only-of-type {\n",
       "        vertical-align: middle;\n",
       "    }\n",
       "\n",
       "    .dataframe tbody tr th {\n",
       "        vertical-align: top;\n",
       "    }\n",
       "\n",
       "    .dataframe thead th {\n",
       "        text-align: right;\n",
       "    }\n",
       "</style>\n",
       "<table border=\"1\" class=\"dataframe\">\n",
       "  <thead>\n",
       "    <tr style=\"text-align: right;\">\n",
       "      <th></th>\n",
       "      <th>Id</th>\n",
       "      <th>TotalMinutesAsleep</th>\n",
       "      <th>TotalSteps</th>\n",
       "      <th>SedentaryMinutes</th>\n",
       "      <th>Calories</th>\n",
       "      <th>METs</th>\n",
       "    </tr>\n",
       "  </thead>\n",
       "  <tbody>\n",
       "    <tr>\n",
       "      <th>count</th>\n",
       "      <td>3.930000e+02</td>\n",
       "      <td>393.000000</td>\n",
       "      <td>393.000000</td>\n",
       "      <td>393.000000</td>\n",
       "      <td>393.000000</td>\n",
       "      <td>393.000000</td>\n",
       "    </tr>\n",
       "    <tr>\n",
       "      <th>mean</th>\n",
       "      <td>5.003939e+09</td>\n",
       "      <td>418.694656</td>\n",
       "      <td>8545.432570</td>\n",
       "      <td>716.277354</td>\n",
       "      <td>2387.908397</td>\n",
       "      <td>1.543735</td>\n",
       "    </tr>\n",
       "    <tr>\n",
       "      <th>std</th>\n",
       "      <td>2.066512e+09</td>\n",
       "      <td>119.736737</td>\n",
       "      <td>4178.541642</td>\n",
       "      <td>163.129712</td>\n",
       "      <td>757.246898</td>\n",
       "      <td>0.246119</td>\n",
       "    </tr>\n",
       "    <tr>\n",
       "      <th>min</th>\n",
       "      <td>1.503960e+09</td>\n",
       "      <td>58.000000</td>\n",
       "      <td>42.000000</td>\n",
       "      <td>2.000000</td>\n",
       "      <td>403.000000</td>\n",
       "      <td>1.018056</td>\n",
       "    </tr>\n",
       "    <tr>\n",
       "      <th>25%</th>\n",
       "      <td>3.977334e+09</td>\n",
       "      <td>361.000000</td>\n",
       "      <td>5183.000000</td>\n",
       "      <td>637.000000</td>\n",
       "      <td>1837.000000</td>\n",
       "      <td>1.362014</td>\n",
       "    </tr>\n",
       "    <tr>\n",
       "      <th>50%</th>\n",
       "      <td>4.702922e+09</td>\n",
       "      <td>432.000000</td>\n",
       "      <td>8954.000000</td>\n",
       "      <td>720.000000</td>\n",
       "      <td>2196.000000</td>\n",
       "      <td>1.546875</td>\n",
       "    </tr>\n",
       "    <tr>\n",
       "      <th>75%</th>\n",
       "      <td>6.962181e+09</td>\n",
       "      <td>489.000000</td>\n",
       "      <td>11393.000000</td>\n",
       "      <td>787.000000</td>\n",
       "      <td>2908.000000</td>\n",
       "      <td>1.685556</td>\n",
       "    </tr>\n",
       "    <tr>\n",
       "      <th>max</th>\n",
       "      <td>8.792010e+09</td>\n",
       "      <td>796.000000</td>\n",
       "      <td>22770.000000</td>\n",
       "      <td>1265.000000</td>\n",
       "      <td>4900.000000</td>\n",
       "      <td>2.501667</td>\n",
       "    </tr>\n",
       "  </tbody>\n",
       "</table>\n",
       "</div>"
      ],
      "text/plain": [
       "                 Id  TotalMinutesAsleep    TotalSteps  SedentaryMinutes  \\\n",
       "count  3.930000e+02          393.000000    393.000000        393.000000   \n",
       "mean   5.003939e+09          418.694656   8545.432570        716.277354   \n",
       "std    2.066512e+09          119.736737   4178.541642        163.129712   \n",
       "min    1.503960e+09           58.000000     42.000000          2.000000   \n",
       "25%    3.977334e+09          361.000000   5183.000000        637.000000   \n",
       "50%    4.702922e+09          432.000000   8954.000000        720.000000   \n",
       "75%    6.962181e+09          489.000000  11393.000000        787.000000   \n",
       "max    8.792010e+09          796.000000  22770.000000       1265.000000   \n",
       "\n",
       "          Calories        METs  \n",
       "count   393.000000  393.000000  \n",
       "mean   2387.908397    1.543735  \n",
       "std     757.246898    0.246119  \n",
       "min     403.000000    1.018056  \n",
       "25%    1837.000000    1.362014  \n",
       "50%    2196.000000    1.546875  \n",
       "75%    2908.000000    1.685556  \n",
       "max    4900.000000    2.501667  "
      ]
     },
     "execution_count": 123,
     "metadata": {},
     "output_type": "execute_result"
    }
   ],
   "source": [
    "daily_activity_sleep = daily_activity_sleep.loc[:, (\"Id\", \"TotalMinutesAsleep\", \"TotalSteps\", \"SedentaryMinutes\", \"Calories\", \"METs\")]\n",
    "daily_activity_sleep.describe()"
   ]
  },
  {
   "cell_type": "code",
   "execution_count": 124,
   "id": "5d6f7d84",
   "metadata": {
    "scrolled": true
   },
   "outputs": [
    {
     "data": {
      "text/plain": [
       "24"
      ]
     },
     "execution_count": 124,
     "metadata": {},
     "output_type": "execute_result"
    }
   ],
   "source": [
    "len(daily_activity_sleep[\"Id\"].unique())"
   ]
  },
  {
   "cell_type": "code",
   "execution_count": 125,
   "id": "4902f5c2",
   "metadata": {
    "scrolled": true
   },
   "outputs": [
    {
     "data": {
      "text/plain": [
       "6962181067    31\n",
       "5553957443    31\n",
       "8378563200    29\n",
       "3977333714    28\n",
       "4702921684    27\n",
       "2026352035    27\n",
       "4445114986    27\n",
       "5577150313    25\n",
       "1503960366    24\n",
       "7086361926    23\n",
       "4319703577    23\n",
       "4388161847    22\n",
       "6117666160    16\n",
       "8792009665    15\n",
       "2347167796    14\n",
       "4020332650     5\n",
       "1927972279     5\n",
       "4558609924     5\n",
       "1644430081     4\n",
       "6775888955     3\n",
       "8053475328     3\n",
       "1844505072     3\n",
       "7007744171     2\n",
       "2320127002     1\n",
       "Name: Id, dtype: int64"
      ]
     },
     "execution_count": 125,
     "metadata": {},
     "output_type": "execute_result"
    }
   ],
   "source": [
    "daily_activity_sleep[\"Id\"].value_counts()"
   ]
  },
  {
   "cell_type": "code",
   "execution_count": 126,
   "id": "48713dd1",
   "metadata": {},
   "outputs": [
    {
     "data": {
      "text/plain": [
       "15"
      ]
     },
     "execution_count": 126,
     "metadata": {},
     "output_type": "execute_result"
    }
   ],
   "source": [
    "(daily_activity_sleep[\"Id\"].value_counts() >= 14).sum()"
   ]
  },
  {
   "cell_type": "code",
   "execution_count": 127,
   "id": "26d2108e",
   "metadata": {
    "scrolled": true
   },
   "outputs": [
    {
     "data": {
      "text/plain": [
       "12"
      ]
     },
     "execution_count": 127,
     "metadata": {},
     "output_type": "execute_result"
    }
   ],
   "source": [
    "(daily_activity_sleep[\"Id\"].value_counts() >= 21).sum()"
   ]
  },
  {
   "cell_type": "code",
   "execution_count": 128,
   "id": "e6ce35cb",
   "metadata": {},
   "outputs": [
    {
     "data": {
      "text/plain": [
       "4"
      ]
     },
     "execution_count": 128,
     "metadata": {},
     "output_type": "execute_result"
    }
   ],
   "source": [
    "(daily_activity_sleep[\"Id\"].value_counts() >= 28).sum()"
   ]
  },
  {
   "cell_type": "markdown",
   "id": "2e5fa5d0",
   "metadata": {},
   "source": [
    "<h3>Graphs</h3>"
   ]
  },
  {
   "cell_type": "code",
   "execution_count": 129,
   "id": "723e21e1",
   "metadata": {
    "scrolled": false
   },
   "outputs": [
    {
     "data": {
      "image/png": "[encoded data removed]",
      "text/plain": [
       "<Figure size 640x480 with 1 Axes>"
      ]
     },
     "metadata": {},
     "output_type": "display_data"
    }
   ],
   "source": [
    "x = daily_activity_sleep[\"SedentaryMinutes\"]\n",
    "y = daily_activity_sleep[\"TotalMinutesAsleep\"]\n",
    "\n",
    "plt.scatter(x, y)\n",
    "\n",
    "coefficients = np.polyfit(x, y, deg=1)\n",
    "slope = coefficients[0]\n",
    "intercept = coefficients[1]\n",
    "regression_line = slope * x + intercept\n",
    "\n",
    "plt.plot(x, regression_line, color='black')\n",
    "\n",
    "r_value = np.corrcoef(x, y)[0, 1]\n",
    "plt.text(0.2, 0.1, f'r = {r_value:.2f}', ha='center', va='center', transform=plt.gca().transAxes)\n",
    "\n",
    "plt.xlabel(\"Total Daily Sedentary Minutes\")\n",
    "plt.ylabel(\"Total Daily Minutes Asleep\")\n",
    "\n",
    "plt.show()"
   ]
  },
  {
   "cell_type": "markdown",
   "id": "c703e1ce",
   "metadata": {},
   "source": [
    "There is a negative correlation between sedentary time and sleep duration, suggesting prolonged sitting negatively affects the duration of sleep."
   ]
  },
  {
   "cell_type": "code",
   "execution_count": 130,
   "id": "16688d43",
   "metadata": {
    "scrolled": true
   },
   "outputs": [
    {
     "data": {
      "text/html": [
       "<div>\n",
       "<style scoped>\n",
       "    .dataframe tbody tr th:only-of-type {\n",
       "        vertical-align: middle;\n",
       "    }\n",
       "\n",
       "    .dataframe tbody tr th {\n",
       "        vertical-align: top;\n",
       "    }\n",
       "\n",
       "    .dataframe thead th {\n",
       "        text-align: right;\n",
       "    }\n",
       "</style>\n",
       "<table border=\"1\" class=\"dataframe\">\n",
       "  <thead>\n",
       "    <tr style=\"text-align: right;\">\n",
       "      <th></th>\n",
       "      <th>Id</th>\n",
       "      <th>TotalMinutesAsleep</th>\n",
       "      <th>TotalSteps</th>\n",
       "      <th>SedentaryMinutes</th>\n",
       "      <th>Calories</th>\n",
       "      <th>METs</th>\n",
       "    </tr>\n",
       "  </thead>\n",
       "  <tbody>\n",
       "    <tr>\n",
       "      <th>0</th>\n",
       "      <td>1503960366</td>\n",
       "      <td>327</td>\n",
       "      <td>13162</td>\n",
       "      <td>728</td>\n",
       "      <td>1985</td>\n",
       "      <td>1.752847</td>\n",
       "    </tr>\n",
       "    <tr>\n",
       "      <th>1</th>\n",
       "      <td>1503960366</td>\n",
       "      <td>384</td>\n",
       "      <td>10735</td>\n",
       "      <td>776</td>\n",
       "      <td>1797</td>\n",
       "      <td>1.587431</td>\n",
       "    </tr>\n",
       "    <tr>\n",
       "      <th>2</th>\n",
       "      <td>1503960366</td>\n",
       "      <td>412</td>\n",
       "      <td>9762</td>\n",
       "      <td>726</td>\n",
       "      <td>1745</td>\n",
       "      <td>1.540972</td>\n",
       "    </tr>\n",
       "    <tr>\n",
       "      <th>3</th>\n",
       "      <td>1503960366</td>\n",
       "      <td>340</td>\n",
       "      <td>12669</td>\n",
       "      <td>773</td>\n",
       "      <td>1863</td>\n",
       "      <td>1.645417</td>\n",
       "    </tr>\n",
       "    <tr>\n",
       "      <th>4</th>\n",
       "      <td>1503960366</td>\n",
       "      <td>700</td>\n",
       "      <td>9705</td>\n",
       "      <td>539</td>\n",
       "      <td>1728</td>\n",
       "      <td>1.525833</td>\n",
       "    </tr>\n",
       "  </tbody>\n",
       "</table>\n",
       "</div>"
      ],
      "text/plain": [
       "           Id  TotalMinutesAsleep  TotalSteps  SedentaryMinutes  Calories  \\\n",
       "0  1503960366                 327       13162               728      1985   \n",
       "1  1503960366                 384       10735               776      1797   \n",
       "2  1503960366                 412        9762               726      1745   \n",
       "3  1503960366                 340       12669               773      1863   \n",
       "4  1503960366                 700        9705               539      1728   \n",
       "\n",
       "       METs  \n",
       "0  1.752847  \n",
       "1  1.587431  \n",
       "2  1.540972  \n",
       "3  1.645417  \n",
       "4  1.525833  "
      ]
     },
     "execution_count": 130,
     "metadata": {},
     "output_type": "execute_result"
    }
   ],
   "source": [
    "daily_activity_sleep.head()"
   ]
  },
  {
   "cell_type": "code",
   "execution_count": 131,
   "id": "86d14f4b",
   "metadata": {
    "scrolled": true
   },
   "outputs": [
    {
     "data": {
      "image/png": "[encoded data removed]",
      "text/plain": [
       "<Figure size 640x480 with 1 Axes>"
      ]
     },
     "metadata": {},
     "output_type": "display_data"
    }
   ],
   "source": [
    "x = daily_activity_sleep[\"METs\"]\n",
    "y = daily_activity_sleep[\"TotalMinutesAsleep\"]\n",
    "\n",
    "plt.scatter(x, y)\n",
    "\n",
    "coefficients = np.polyfit(x, y, deg=1)\n",
    "slope = coefficients[0]\n",
    "intercept = coefficients[1]\n",
    "regression_line = slope * x + intercept\n",
    "\n",
    "plt.plot(x, regression_line, color='black')\n",
    "\n",
    "r_value = np.corrcoef(x, y)[0, 1]\n",
    "plt.text(0.8, 0.1, f'r = {r_value:.2f}', ha='center', va='center', transform=plt.gca().transAxes)\n",
    "\n",
    "plt.xlabel(\"Daily Average METs/minute\")\n",
    "plt.ylabel(\"Total Daily Minutes Asleep\")\n",
    "\n",
    "plt.show()"
   ]
  },
  {
   "cell_type": "markdown",
   "id": "5372ea37",
   "metadata": {},
   "source": [
    "To explore the relationship between physical activity and sleep duration, Metabolic Equivalent Tasks (METs) were used as a physical activity metric. MET is defined as a rate of energy expended during an activity compared to the rate of energy expended during rest. 1 REM is equivalent to a persont resting in a sedentary state, while activities that require MET > 1.5 are generally considered light physical activity (http://dx.doi.org/10.2196/36181). \n",
    "\n",
    "No obvious relationship is observed between average daily activity expressed in average daily METs and sleep duration. This is in contrast to observations in sedentary time vs sleep duration graph. It is possible that daily sedentary time might not reflect the overall person's physical activity very accurately."
   ]
  },
  {
   "cell_type": "code",
   "execution_count": 132,
   "id": "67278cfe",
   "metadata": {},
   "outputs": [
    {
     "data": {
      "image/png": "[encoded data removed]",
      "text/plain": [
       "<Figure size 640x480 with 1 Axes>"
      ]
     },
     "metadata": {},
     "output_type": "display_data"
    }
   ],
   "source": [
    "x = daily_activity_sleep[\"SedentaryMinutes\"]\n",
    "y = daily_activity_sleep[\"METs\"]\n",
    "\n",
    "plt.scatter(x, y)\n",
    "\n",
    "coefficients = np.polyfit(x, y, deg=1)\n",
    "slope = coefficients[0]\n",
    "intercept = coefficients[1]\n",
    "regression_line = slope * x + intercept\n",
    "\n",
    "plt.plot(x, regression_line, color='black')\n",
    "\n",
    "r_value = np.corrcoef(x, y)[0, 1]\n",
    "plt.text(0.8, 0.1, f'r = {r_value:.2f}', ha='center', va='center', transform=plt.gca().transAxes)\n",
    "\n",
    "plt.xlabel(\"Total Daily Sedentary Minutes\")\n",
    "plt.ylabel(\"Daily Average METs/Minute\")\n",
    "\n",
    "plt.show()"
   ]
  },
  {
   "cell_type": "code",
   "execution_count": 133,
   "id": "2ea93e47",
   "metadata": {
    "scrolled": true
   },
   "outputs": [
    {
     "data": {
      "image/png": "[encoded data removed]",
      "text/plain": [
       "<Figure size 640x480 with 1 Axes>"
      ]
     },
     "metadata": {},
     "output_type": "display_data"
    }
   ],
   "source": [
    "x = daily_activity_sleep[\"SedentaryMinutes\"]\n",
    "y = daily_activity_sleep[\"TotalSteps\"]\n",
    "\n",
    "plt.scatter(x, y)\n",
    "\n",
    "coefficients = np.polyfit(x, y, deg=1)\n",
    "slope = coefficients[0]\n",
    "intercept = coefficients[1]\n",
    "regression_line = slope * x + intercept\n",
    "\n",
    "plt.plot(x, regression_line, color='black')\n",
    "\n",
    "r_value = np.corrcoef(x, y)[0, 1]\n",
    "plt.text(0.8, 0.1, f'r = {r_value:.2f}', ha='center', va='center', transform=plt.gca().transAxes)\n",
    "\n",
    "plt.xlabel(\"Total Daily Sedentary Minutes\")\n",
    "plt.ylabel(\"Total Daily Steps\")\n",
    "\n",
    "plt.show()"
   ]
  },
  {
   "cell_type": "code",
   "execution_count": 134,
   "id": "cae49a67",
   "metadata": {},
   "outputs": [
    {
     "data": {
      "image/png": "[encoded data removed]",
      "text/plain": [
       "<Figure size 640x480 with 1 Axes>"
      ]
     },
     "metadata": {},
     "output_type": "display_data"
    }
   ],
   "source": [
    "x = daily_activity_sleep[\"SedentaryMinutes\"]\n",
    "y = daily_activity_sleep[\"Calories\"]\n",
    "\n",
    "plt.scatter(x, y)\n",
    "\n",
    "coefficients = np.polyfit(x, y, deg=1)\n",
    "slope = coefficients[0]\n",
    "intercept = coefficients[1]\n",
    "regression_line = slope * x + intercept\n",
    "\n",
    "plt.plot(x, regression_line, color='black')\n",
    "\n",
    "r_value = np.corrcoef(x, y)[0, 1]\n",
    "plt.text(0.8, 0.1, f'r = {r_value:.2f}', ha='center', va='center', transform=plt.gca().transAxes)\n",
    "\n",
    "plt.xlabel(\"Total Daily Sedentary Minutes\")\n",
    "plt.ylabel(\"Total Daily Calories\")\n",
    "\n",
    "plt.show()"
   ]
  },
  {
   "cell_type": "markdown",
   "id": "c0b7dfcb",
   "metadata": {},
   "source": [
    "Indeed, it appears that total daily sedentary time is not a great predictor of persons total daily activity (measured as daily average METs/minute or total daily steps) or total daily energy expenditure (total daily calories)."
   ]
  },
  {
   "cell_type": "code",
   "execution_count": 135,
   "id": "829f43d7",
   "metadata": {
    "scrolled": true
   },
   "outputs": [
    {
     "data": {
      "image/png": "[encoded data removed]",
      "text/plain": [
       "<Figure size 640x480 with 1 Axes>"
      ]
     },
     "metadata": {},
     "output_type": "display_data"
    }
   ],
   "source": [
    "daily_activity_sleep['METs_Quartile'] = pandas.qcut(daily_activity_sleep['METs'], q=4, labels=['Q1', 'Q2', 'Q3', 'Q4'])\n",
    "for quartile in ['Q1', 'Q2', 'Q3', 'Q4']:\n",
    "    plt.scatter(daily_activity_sleep.loc[daily_activity_sleep['METs_Quartile'] == quartile, 'METs'],\n",
    "                daily_activity_sleep.loc[daily_activity_sleep['METs_Quartile'] == quartile, 'TotalMinutesAsleep'])\n",
    "\n",
    "plt.xlabel(\"Daily average METs/Minute\")\n",
    "plt.ylabel(\"Total Daily Minutes Asleep\")\n",
    "plt.show()"
   ]
  },
  {
   "cell_type": "markdown",
   "id": "8c826d20",
   "metadata": {},
   "source": [
    "Although no upward or downward trends are observed in the average daily MET minutes vs total minutes asleep graph, when data is split into quartiles, data variability seems to decrease as average daily MET minutes increase."
   ]
  },
  {
   "cell_type": "code",
   "execution_count": 136,
   "id": "1cd01fd6",
   "metadata": {
    "scrolled": true
   },
   "outputs": [
    {
     "data": {
      "text/html": [
       "<div>\n",
       "<style scoped>\n",
       "    .dataframe tbody tr th:only-of-type {\n",
       "        vertical-align: middle;\n",
       "    }\n",
       "\n",
       "    .dataframe tbody tr th {\n",
       "        vertical-align: top;\n",
       "    }\n",
       "\n",
       "    .dataframe thead th {\n",
       "        text-align: right;\n",
       "    }\n",
       "</style>\n",
       "<table border=\"1\" class=\"dataframe\">\n",
       "  <thead>\n",
       "    <tr style=\"text-align: right;\">\n",
       "      <th></th>\n",
       "      <th>count</th>\n",
       "      <th>mean</th>\n",
       "      <th>std</th>\n",
       "      <th>min</th>\n",
       "      <th>25%</th>\n",
       "      <th>50%</th>\n",
       "      <th>75%</th>\n",
       "      <th>max</th>\n",
       "    </tr>\n",
       "    <tr>\n",
       "      <th>METs_Quartile</th>\n",
       "      <th></th>\n",
       "      <th></th>\n",
       "      <th></th>\n",
       "      <th></th>\n",
       "      <th></th>\n",
       "      <th></th>\n",
       "      <th></th>\n",
       "      <th></th>\n",
       "    </tr>\n",
       "  </thead>\n",
       "  <tbody>\n",
       "    <tr>\n",
       "      <th>Q1</th>\n",
       "      <td>99.0</td>\n",
       "      <td>457.969697</td>\n",
       "      <td>146.282607</td>\n",
       "      <td>59.0</td>\n",
       "      <td>407.5</td>\n",
       "      <td>463.0</td>\n",
       "      <td>526.00</td>\n",
       "      <td>796.0</td>\n",
       "    </tr>\n",
       "    <tr>\n",
       "      <th>Q2</th>\n",
       "      <td>99.0</td>\n",
       "      <td>418.232323</td>\n",
       "      <td>111.491267</td>\n",
       "      <td>58.0</td>\n",
       "      <td>358.0</td>\n",
       "      <td>432.0</td>\n",
       "      <td>495.50</td>\n",
       "      <td>700.0</td>\n",
       "    </tr>\n",
       "    <tr>\n",
       "      <th>Q3</th>\n",
       "      <td>98.0</td>\n",
       "      <td>396.102041</td>\n",
       "      <td>100.706114</td>\n",
       "      <td>62.0</td>\n",
       "      <td>338.0</td>\n",
       "      <td>417.0</td>\n",
       "      <td>466.75</td>\n",
       "      <td>611.0</td>\n",
       "    </tr>\n",
       "    <tr>\n",
       "      <th>Q4</th>\n",
       "      <td>97.0</td>\n",
       "      <td>401.907216</td>\n",
       "      <td>106.604319</td>\n",
       "      <td>74.0</td>\n",
       "      <td>361.0</td>\n",
       "      <td>418.0</td>\n",
       "      <td>472.00</td>\n",
       "      <td>600.0</td>\n",
       "    </tr>\n",
       "  </tbody>\n",
       "</table>\n",
       "</div>"
      ],
      "text/plain": [
       "               count        mean         std   min    25%    50%     75%  \\\n",
       "METs_Quartile                                                              \n",
       "Q1              99.0  457.969697  146.282607  59.0  407.5  463.0  526.00   \n",
       "Q2              99.0  418.232323  111.491267  58.0  358.0  432.0  495.50   \n",
       "Q3              98.0  396.102041  100.706114  62.0  338.0  417.0  466.75   \n",
       "Q4              97.0  401.907216  106.604319  74.0  361.0  418.0  472.00   \n",
       "\n",
       "                 max  \n",
       "METs_Quartile         \n",
       "Q1             796.0  \n",
       "Q2             700.0  \n",
       "Q3             611.0  \n",
       "Q4             600.0  "
      ]
     },
     "execution_count": 136,
     "metadata": {},
     "output_type": "execute_result"
    }
   ],
   "source": [
    "daily_activity_sleep.groupby(\"METs_Quartile\")[\"TotalMinutesAsleep\"].describe()"
   ]
  },
  {
   "cell_type": "code",
   "execution_count": 137,
   "id": "9c5e9705",
   "metadata": {
    "scrolled": true
   },
   "outputs": [
    {
     "data": {
      "text/html": [
       "<div>\n",
       "<style scoped>\n",
       "    .dataframe tbody tr th:only-of-type {\n",
       "        vertical-align: middle;\n",
       "    }\n",
       "\n",
       "    .dataframe tbody tr th {\n",
       "        vertical-align: top;\n",
       "    }\n",
       "\n",
       "    .dataframe thead th {\n",
       "        text-align: right;\n",
       "    }\n",
       "</style>\n",
       "<table border=\"1\" class=\"dataframe\">\n",
       "  <thead>\n",
       "    <tr style=\"text-align: right;\">\n",
       "      <th></th>\n",
       "      <th>count</th>\n",
       "      <th>mean</th>\n",
       "      <th>std</th>\n",
       "      <th>min</th>\n",
       "      <th>25%</th>\n",
       "      <th>50%</th>\n",
       "      <th>75%</th>\n",
       "      <th>max</th>\n",
       "    </tr>\n",
       "    <tr>\n",
       "      <th>METs_Quartile</th>\n",
       "      <th></th>\n",
       "      <th></th>\n",
       "      <th></th>\n",
       "      <th></th>\n",
       "      <th></th>\n",
       "      <th></th>\n",
       "      <th></th>\n",
       "      <th></th>\n",
       "    </tr>\n",
       "  </thead>\n",
       "  <tbody>\n",
       "    <tr>\n",
       "      <th>Q1</th>\n",
       "      <td>99.0</td>\n",
       "      <td>1.246579</td>\n",
       "      <td>0.091446</td>\n",
       "      <td>1.018056</td>\n",
       "      <td>1.189826</td>\n",
       "      <td>1.276111</td>\n",
       "      <td>1.321001</td>\n",
       "      <td>1.362014</td>\n",
       "    </tr>\n",
       "    <tr>\n",
       "      <th>Q2</th>\n",
       "      <td>99.0</td>\n",
       "      <td>1.468878</td>\n",
       "      <td>0.053821</td>\n",
       "      <td>1.363611</td>\n",
       "      <td>1.430764</td>\n",
       "      <td>1.478125</td>\n",
       "      <td>1.515382</td>\n",
       "      <td>1.546875</td>\n",
       "    </tr>\n",
       "    <tr>\n",
       "      <th>Q3</th>\n",
       "      <td>98.0</td>\n",
       "      <td>1.612353</td>\n",
       "      <td>0.040929</td>\n",
       "      <td>1.549722</td>\n",
       "      <td>1.577535</td>\n",
       "      <td>1.612500</td>\n",
       "      <td>1.644080</td>\n",
       "      <td>1.685556</td>\n",
       "    </tr>\n",
       "    <tr>\n",
       "      <th>Q4</th>\n",
       "      <td>97.0</td>\n",
       "      <td>1.854094</td>\n",
       "      <td>0.187586</td>\n",
       "      <td>1.688542</td>\n",
       "      <td>1.732083</td>\n",
       "      <td>1.777569</td>\n",
       "      <td>1.905486</td>\n",
       "      <td>2.501667</td>\n",
       "    </tr>\n",
       "  </tbody>\n",
       "</table>\n",
       "</div>"
      ],
      "text/plain": [
       "               count      mean       std       min       25%       50%  \\\n",
       "METs_Quartile                                                            \n",
       "Q1              99.0  1.246579  0.091446  1.018056  1.189826  1.276111   \n",
       "Q2              99.0  1.468878  0.053821  1.363611  1.430764  1.478125   \n",
       "Q3              98.0  1.612353  0.040929  1.549722  1.577535  1.612500   \n",
       "Q4              97.0  1.854094  0.187586  1.688542  1.732083  1.777569   \n",
       "\n",
       "                    75%       max  \n",
       "METs_Quartile                      \n",
       "Q1             1.321001  1.362014  \n",
       "Q2             1.515382  1.546875  \n",
       "Q3             1.644080  1.685556  \n",
       "Q4             1.905486  2.501667  "
      ]
     },
     "execution_count": 137,
     "metadata": {},
     "output_type": "execute_result"
    }
   ],
   "source": [
    "daily_activity_sleep.groupby(\"METs_Quartile\")[\"METs\"].describe()"
   ]
  },
  {
   "cell_type": "code",
   "execution_count": 138,
   "id": "f10cc054",
   "metadata": {
    "scrolled": true
   },
   "outputs": [
    {
     "name": "stdout",
     "output_type": "stream",
     "text": [
      "P-value (Q1 and Q2): 0.14\n",
      "P-value (Q1 and Q3): 0.05\n",
      "P-value (Q1 and Q4): 0.06\n",
      "P-value (Q2 and Q1): 0.14\n",
      "P-value (Q2 and Q3): 0.60\n",
      "P-value (Q2 and Q4): 0.63\n",
      "P-value (Q3 and Q1): 0.05\n",
      "P-value (Q3 and Q2): 0.60\n",
      "P-value (Q3 and Q4): 0.99\n",
      "P-value (Q4 and Q1): 0.06\n",
      "P-value (Q4 and Q2): 0.63\n",
      "P-value (Q4 and Q3): 0.99\n"
     ]
    }
   ],
   "source": [
    "from scipy.stats import levene\n",
    "for quartile_1 in ['Q1', 'Q2', 'Q3', 'Q4']:\n",
    "    for quartile_2 in ['Q1', 'Q2', 'Q3', 'Q4']:\n",
    "        if quartile_1 != quartile_2:\n",
    "            statistic, p_value = levene(daily_activity_sleep.loc[daily_activity_sleep['METs_Quartile'] == quartile_1, 'TotalMinutesAsleep'], daily_activity_sleep.loc[daily_activity_sleep['METs_Quartile'] == quartile_2, 'TotalMinutesAsleep'])\n",
    "            print(f\"P-value ({quartile_1} and {quartile_2}): {p_value:.2f}\")"
   ]
  },
  {
   "cell_type": "markdown",
   "id": "2d7e5fbe",
   "metadata": {},
   "source": [
    "Although the average sleep duration is close to the recommended 7 hours, it seems that the standard deviation of data in the first quartile is higher than that in the other quartiles. This suggests, that higher average daily MET minutes might be associated with more consistent nightly sleep duration. This might be important as both under- and oversleeping are known to be detrimental to health."
   ]
  },
  {
   "cell_type": "code",
   "execution_count": 139,
   "id": "82706c42",
   "metadata": {},
   "outputs": [],
   "source": [
    "daily_activity_sleep['SleepQuality'] = ''\n",
    "daily_activity_sleep.loc[daily_activity_sleep['TotalMinutesAsleep'] > 480, 'SleepQuality'] = 'oversleeping'\n",
    "daily_activity_sleep.loc[daily_activity_sleep['TotalMinutesAsleep'] < 360, 'SleepQuality'] = 'undersleeping'\n",
    "daily_activity_sleep.loc[(daily_activity_sleep['TotalMinutesAsleep'] >= 360) & (daily_activity_sleep['TotalMinutesAsleep'] <= 480), 'SleepQuality'] = 'normal'"
   ]
  },
  {
   "cell_type": "code",
   "execution_count": 140,
   "id": "62401847",
   "metadata": {},
   "outputs": [],
   "source": [
    "daily_activity_sleep_grouped = daily_activity_sleep.groupby([\"METs_Quartile\", \"SleepQuality\"]).size().unstack()\n",
    "total = daily_activity_sleep_grouped[\"normal\"] + daily_activity_sleep_grouped[\"oversleeping\"] + daily_activity_sleep_grouped[\"undersleeping\"]\n",
    "daily_activity_sleep_grouped = daily_activity_sleep_grouped.div(total, axis=0) * 100"
   ]
  },
  {
   "cell_type": "code",
   "execution_count": 141,
   "id": "c358376a",
   "metadata": {
    "scrolled": false
   },
   "outputs": [
    {
     "data": {
      "image/png": "[encoded data removed]",
      "text/plain": [
       "<Figure size 640x480 with 1 Axes>"
      ]
     },
     "metadata": {},
     "output_type": "display_data"
    }
   ],
   "source": [
    "x_labels = ['Sedentary', 'LightlyActive', 'FairlyActive', 'VeryActive']\n",
    "bar_width = 0.2\n",
    "\n",
    "pos_undersleeping = list(range(len(x_labels)))\n",
    "pos_normal = [pos + bar_width for pos in pos_undersleeping]\n",
    "pos_oversleeping = [pos + bar_width for pos in pos_normal]\n",
    "\n",
    "plt.bar(pos_undersleeping, daily_activity_sleep_grouped['undersleeping'], width=bar_width, label='Undersleeping')\n",
    "plt.bar(pos_normal, daily_activity_sleep_grouped['normal'], width=bar_width, label='Normal')\n",
    "plt.bar(pos_oversleeping, daily_activity_sleep_grouped['oversleeping'], width=bar_width, label='Oversleeping')\n",
    "\n",
    "plt.ylabel('Percentage')\n",
    "\n",
    "plt.xticks([pos + bar_width for pos in range(len(x_labels))], [\"Lowest Activity\", \"Light Activity\", \"Moderate Activity\", \"Highest Activity\"])\n",
    "\n",
    "plt.legend()\n",
    "\n",
    "plt.show()"
   ]
  },
  {
   "cell_type": "markdown",
   "id": "cfb5a1bb",
   "metadata": {},
   "source": [
    "<h3>Testing if the increase in the proportion of normal duration sleep events in the highest activity quartile is significantly different from the lowest activity quartile</h3>"
   ]
  },
  {
   "cell_type": "code",
   "execution_count": 142,
   "id": "262e9ce8",
   "metadata": {},
   "outputs": [],
   "source": [
    "daily_activity_sleep_stats = daily_activity_sleep.copy()\n",
    "daily_activity_sleep_stats['SleepQuality'] = ''\n",
    "daily_activity_sleep_stats.loc[daily_activity_sleep_stats['TotalMinutesAsleep'] > 480, 'SleepQuality'] = \"abnormal\"\n",
    "daily_activity_sleep_stats.loc[daily_activity_sleep_stats['TotalMinutesAsleep'] < 360, 'SleepQuality'] = \"abnormal\"\n",
    "daily_activity_sleep_stats.loc[(daily_activity_sleep_stats['TotalMinutesAsleep'] >= 360) & (daily_activity_sleep_stats['TotalMinutesAsleep'] <= 480), 'SleepQuality'] = \"normal\""
   ]
  },
  {
   "cell_type": "markdown",
   "id": "fdf830ad",
   "metadata": {},
   "source": [
    "Normal duration sleep events reclassified as \"good\", undersleeping and oversleeping events classified as \"bad\"."
   ]
  },
  {
   "cell_type": "code",
   "execution_count": 143,
   "id": "d3e0cc8f",
   "metadata": {
    "scrolled": true
   },
   "outputs": [
    {
     "data": {
      "text/html": [
       "<div>\n",
       "<style scoped>\n",
       "    .dataframe tbody tr th:only-of-type {\n",
       "        vertical-align: middle;\n",
       "    }\n",
       "\n",
       "    .dataframe tbody tr th {\n",
       "        vertical-align: top;\n",
       "    }\n",
       "\n",
       "    .dataframe thead th {\n",
       "        text-align: right;\n",
       "    }\n",
       "</style>\n",
       "<table border=\"1\" class=\"dataframe\">\n",
       "  <thead>\n",
       "    <tr style=\"text-align: right;\">\n",
       "      <th>SleepQuality</th>\n",
       "      <th>METs_Quartile</th>\n",
       "      <th>abnormal</th>\n",
       "      <th>normal</th>\n",
       "    </tr>\n",
       "  </thead>\n",
       "  <tbody>\n",
       "    <tr>\n",
       "      <th>0</th>\n",
       "      <td>Q1</td>\n",
       "      <td>59</td>\n",
       "      <td>40</td>\n",
       "    </tr>\n",
       "    <tr>\n",
       "      <th>1</th>\n",
       "      <td>Q2</td>\n",
       "      <td>53</td>\n",
       "      <td>46</td>\n",
       "    </tr>\n",
       "    <tr>\n",
       "      <th>2</th>\n",
       "      <td>Q3</td>\n",
       "      <td>49</td>\n",
       "      <td>49</td>\n",
       "    </tr>\n",
       "    <tr>\n",
       "      <th>3</th>\n",
       "      <td>Q4</td>\n",
       "      <td>43</td>\n",
       "      <td>54</td>\n",
       "    </tr>\n",
       "  </tbody>\n",
       "</table>\n",
       "</div>"
      ],
      "text/plain": [
       "SleepQuality METs_Quartile  abnormal  normal\n",
       "0                       Q1        59      40\n",
       "1                       Q2        53      46\n",
       "2                       Q3        49      49\n",
       "3                       Q4        43      54"
      ]
     },
     "execution_count": 143,
     "metadata": {},
     "output_type": "execute_result"
    }
   ],
   "source": [
    "contingency_table = daily_activity_sleep_stats[[\"METs_Quartile\", \"SleepQuality\"]].groupby(\"METs_Quartile\").value_counts()\n",
    "contingency_table = contingency_table.reset_index()\n",
    "contingency_table = contingency_table.rename(columns={0:\"counts\"})\n",
    "contingency_table = contingency_table.pivot(index='METs_Quartile', columns='SleepQuality', values='counts')\n",
    "contingency_table = contingency_table.reset_index()\n",
    "contingency_table"
   ]
  },
  {
   "cell_type": "code",
   "execution_count": 144,
   "id": "66efb715",
   "metadata": {},
   "outputs": [
    {
     "name": "stdout",
     "output_type": "stream",
     "text": [
      "P-value (Q1 and Q2): 0.47\n",
      "P-value (Q1 and Q3): 0.23\n",
      "P-value (Q1 and Q4): 0.05\n",
      "P-value (Q2 and Q1): 0.47\n",
      "P-value (Q2 and Q3): 0.72\n",
      "P-value (Q2 and Q4): 0.25\n",
      "P-value (Q3 and Q1): 0.23\n",
      "P-value (Q3 and Q2): 0.72\n",
      "P-value (Q3 and Q4): 0.52\n",
      "P-value (Q4 and Q1): 0.05\n",
      "P-value (Q4 and Q2): 0.25\n",
      "P-value (Q4 and Q3): 0.52\n"
     ]
    }
   ],
   "source": [
    "import numpy as np\n",
    "from scipy.stats import chi2_contingency\n",
    "for quartile_1 in ['Q1', 'Q2', 'Q3', 'Q4']:\n",
    "    for quartile_2 in ['Q1', 'Q2', 'Q3', 'Q4']:\n",
    "        if quartile_1 != quartile_2:\n",
    "            observed_data = contingency_table[contingency_table[\"METs_Quartile\"].isin([quartile_1, quartile_2])][[\"abnormal\", \"normal\"]].values.tolist()\n",
    "            chi2, p_value, dof, expected = chi2_contingency(observed_data)\n",
    "            print(f\"P-value ({quartile_1} and {quartile_2}): {p_value:.2f}\")"
   ]
  },
  {
   "cell_type": "code",
   "execution_count": 145,
   "id": "75986341",
   "metadata": {
    "scrolled": true
   },
   "outputs": [
    {
     "data": {
      "text/html": [
       "<div>\n",
       "<style scoped>\n",
       "    .dataframe tbody tr th:only-of-type {\n",
       "        vertical-align: middle;\n",
       "    }\n",
       "\n",
       "    .dataframe tbody tr th {\n",
       "        vertical-align: top;\n",
       "    }\n",
       "\n",
       "    .dataframe thead th {\n",
       "        text-align: right;\n",
       "    }\n",
       "</style>\n",
       "<table border=\"1\" class=\"dataframe\">\n",
       "  <thead>\n",
       "    <tr style=\"text-align: right;\">\n",
       "      <th></th>\n",
       "      <th>count</th>\n",
       "      <th>mean</th>\n",
       "      <th>std</th>\n",
       "      <th>min</th>\n",
       "      <th>25%</th>\n",
       "      <th>50%</th>\n",
       "      <th>75%</th>\n",
       "      <th>max</th>\n",
       "    </tr>\n",
       "    <tr>\n",
       "      <th>METs_Quartile</th>\n",
       "      <th></th>\n",
       "      <th></th>\n",
       "      <th></th>\n",
       "      <th></th>\n",
       "      <th></th>\n",
       "      <th></th>\n",
       "      <th></th>\n",
       "      <th></th>\n",
       "    </tr>\n",
       "  </thead>\n",
       "  <tbody>\n",
       "    <tr>\n",
       "      <th>Q1</th>\n",
       "      <td>99.0</td>\n",
       "      <td>1.246579</td>\n",
       "      <td>0.091446</td>\n",
       "      <td>1.018056</td>\n",
       "      <td>1.189826</td>\n",
       "      <td>1.276111</td>\n",
       "      <td>1.321001</td>\n",
       "      <td>1.362014</td>\n",
       "    </tr>\n",
       "    <tr>\n",
       "      <th>Q2</th>\n",
       "      <td>99.0</td>\n",
       "      <td>1.468878</td>\n",
       "      <td>0.053821</td>\n",
       "      <td>1.363611</td>\n",
       "      <td>1.430764</td>\n",
       "      <td>1.478125</td>\n",
       "      <td>1.515382</td>\n",
       "      <td>1.546875</td>\n",
       "    </tr>\n",
       "    <tr>\n",
       "      <th>Q3</th>\n",
       "      <td>98.0</td>\n",
       "      <td>1.612353</td>\n",
       "      <td>0.040929</td>\n",
       "      <td>1.549722</td>\n",
       "      <td>1.577535</td>\n",
       "      <td>1.612500</td>\n",
       "      <td>1.644080</td>\n",
       "      <td>1.685556</td>\n",
       "    </tr>\n",
       "    <tr>\n",
       "      <th>Q4</th>\n",
       "      <td>97.0</td>\n",
       "      <td>1.854094</td>\n",
       "      <td>0.187586</td>\n",
       "      <td>1.688542</td>\n",
       "      <td>1.732083</td>\n",
       "      <td>1.777569</td>\n",
       "      <td>1.905486</td>\n",
       "      <td>2.501667</td>\n",
       "    </tr>\n",
       "  </tbody>\n",
       "</table>\n",
       "</div>"
      ],
      "text/plain": [
       "               count      mean       std       min       25%       50%  \\\n",
       "METs_Quartile                                                            \n",
       "Q1              99.0  1.246579  0.091446  1.018056  1.189826  1.276111   \n",
       "Q2              99.0  1.468878  0.053821  1.363611  1.430764  1.478125   \n",
       "Q3              98.0  1.612353  0.040929  1.549722  1.577535  1.612500   \n",
       "Q4              97.0  1.854094  0.187586  1.688542  1.732083  1.777569   \n",
       "\n",
       "                    75%       max  \n",
       "METs_Quartile                      \n",
       "Q1             1.321001  1.362014  \n",
       "Q2             1.515382  1.546875  \n",
       "Q3             1.644080  1.685556  \n",
       "Q4             1.905486  2.501667  "
      ]
     },
     "execution_count": 145,
     "metadata": {},
     "output_type": "execute_result"
    }
   ],
   "source": [
    "daily_activity_sleep.groupby(\"METs_Quartile\")[\"METs\"].describe()"
   ]
  },
  {
   "cell_type": "markdown",
   "id": "2387fbb1",
   "metadata": {},
   "source": [
    "The MET quartiles were classified as 'Lowest Activity' (1.018056 - 1.364236 average daily MET/minute), 'Light Activity' (1.369375 - 1.546875 average daily MET/minute), 'Moderate Activity' (1.549722 - 1.688889 average daily MET/minute), 'Highest Activity' (1.688542 - 2.501667 average daily MET/minute) categories from the lowest to the highest. Sleep duration was grouped into 'undersleeping' (<6 hrs), 'normal' (6-8 hrs), and 'oversleeping' (>8 hrs). Although it seems that people with the lowest physical activity seem to undersleep less than other groups, it appears to be due to their higher tendency to oversleep. Even light physical activity seems to positively affect the duration of sleep favouring sleep duration within the optimal range. \n",
    "\n",
    "There is also a tread showing and increase in the fraction of sleep events with normal duration as physical activity increases. The difference between the fraction of normal duration sleep events in the lowest activity and highest activity quartiles did not pass the threshold of statistical significance. However, the p-value was very close to the threshold (p = 0.06), suggesting that the difference between the quartiles might be real. As the power of chi-square test increases with sample size, a higher sample size could be used to verify that the difference between the bottom and top quartiles is real."
   ]
  },
  {
   "cell_type": "markdown",
   "id": "f2559879",
   "metadata": {},
   "source": [
    "daily_activity_sleep.to_csv(\"activity_sleep_data_cleaned.csv\")"
   ]
  },
  {
   "cell_type": "markdown",
   "id": "d24e785f",
   "metadata": {},
   "source": [
    "<h3>Average Hourly Intensities</h3>"
   ]
  },
  {
   "cell_type": "code",
   "execution_count": 146,
   "id": "c3362118",
   "metadata": {},
   "outputs": [],
   "source": [
    "hourly_intensities[\"ActivityHour\"] = hourly_intensities[\"ActivityHour\"].dt.time"
   ]
  },
  {
   "cell_type": "code",
   "execution_count": 147,
   "id": "1cb0dfae",
   "metadata": {
    "scrolled": true
   },
   "outputs": [
    {
     "data": {
      "text/plain": [
       "ActivityHour         object\n",
       "AverageIntensity    float64\n",
       "ActivityHourPlot      int64\n",
       "dtype: object"
      ]
     },
     "execution_count": 147,
     "metadata": {},
     "output_type": "execute_result"
    }
   ],
   "source": [
    "hourly_intensities_grouped = hourly_intensities.groupby(\"ActivityHour\").mean().reset_index()[[\"ActivityHour\", \"AverageIntensity\"]]\n",
    "hourly_intensities_grouped['ActivityHourPlot'] = hourly_intensities_grouped['ActivityHour'].apply(lambda x: x.hour * 1)\n",
    "hourly_intensities_grouped.dtypes"
   ]
  },
  {
   "cell_type": "code",
   "execution_count": 148,
   "id": "34e8ba1e",
   "metadata": {},
   "outputs": [],
   "source": [
    "hourly_intensities_grouped[\"ActivityHour\"] = hourly_intensities_grouped[\"ActivityHour\"].apply(lambda x: x.strftime(\"%H:%M\"))"
   ]
  },
  {
   "cell_type": "code",
   "execution_count": 149,
   "id": "b5172871",
   "metadata": {
    "scrolled": false
   },
   "outputs": [
    {
     "data": {
      "image/png": "[encoded data removed]",
      "text/plain": [
       "<Figure size 640x480 with 1 Axes>"
      ]
     },
     "metadata": {},
     "output_type": "display_data"
    }
   ],
   "source": [
    "x = hourly_intensities_grouped[\"ActivityHourPlot\"]\n",
    "y = hourly_intensities_grouped[\"AverageIntensity\"]\n",
    "\n",
    "plt.bar(x, y)\n",
    "\n",
    "plt.xlabel(\"Time of a Day\")\n",
    "plt.ylabel(\"Average Intensity\")\n",
    "\n",
    "plt.xticks(hourly_intensities_grouped[\"ActivityHourPlot\"][1::2], hourly_intensities_grouped[\"ActivityHour\"][1::2], rotation=\"vertical\")\n",
    "\n",
    "plt.show()"
   ]
  },
  {
   "cell_type": "markdown",
   "id": "6b29fc8b",
   "metadata": {},
   "source": [
    "hourly_intensities_grouped.to_csv(\"hourly_intensities_cleaned.csv\")"
   ]
  },
  {
   "cell_type": "markdown",
   "id": "480aa578",
   "metadata": {},
   "source": [
    "<h2>Calculating the Level of Physical Activity Required to Achieve 1.5 Daily Average METs/minute</h2>"
   ]
  },
  {
   "cell_type": "code",
   "execution_count": 150,
   "id": "3f5e1aec",
   "metadata": {},
   "outputs": [
    {
     "data": {
      "text/plain": [
       "count    934.000000\n",
       "mean       1.466396\n",
       "std        0.290326\n",
       "min        1.000000\n",
       "25%        1.271024\n",
       "50%        1.469618\n",
       "75%        1.640677\n",
       "max        2.577569\n",
       "Name: METs, dtype: float64"
      ]
     },
     "execution_count": 150,
     "metadata": {},
     "output_type": "execute_result"
    }
   ],
   "source": [
    "average_daily_met[\"METs\"].describe()"
   ]
  },
  {
   "cell_type": "code",
   "execution_count": 151,
   "id": "b03332e5",
   "metadata": {},
   "outputs": [
    {
     "name": "stdout",
     "output_type": "stream",
     "text": [
      "6.00 hours of activity at 3 METs\n",
      "2.40 hours of activity at 6 METs\n",
      "1.50 hours of activity at 9 METs\n"
     ]
    }
   ],
   "source": [
    "from sympy import *\n",
    "\n",
    "for MET in [3, 6, 9]:\n",
    "    x, y = symbols('x y')\n",
    "    eq1 = Eq((1*x + MET*y)/24, 1.5)\n",
    "    eq2 = Eq(x + y, 24)\n",
    "    solution = solve((eq1,eq2), (x, y))\n",
    "    print(f\"{solution[y]:.2f} hours of activity at {MET} METs\")"
   ]
  },
  {
   "cell_type": "markdown",
   "id": "7076a085",
   "metadata": {},
   "source": [
    "To reach 1.5 daily average METs/minute associated with more consistent sleep duration and more sleep events with a duration that falls within the normal range, people need to accumulate at least 6 hours of light activity, like slow walking, or 2.4 hours of moderate activity, like brisk walking, or 1.5 hours of intense physical activity, like running (https://doi.org/10.1371%2Fjournal.pone.0200701). This seems to be quite feasible as the average daily METs/minute of people who participated in this study is 1.47."
   ]
  }
 ],
 "metadata": {
  "kernelspec": {
   "display_name": "Python 3 (ipykernel)",
   "language": "python",
   "name": "python3"
  },
  "language_info": {
   "codemirror_mode": {
    "name": "ipython",
    "version": 3
   },
   "file_extension": ".py",
   "mimetype": "text/x-python",
   "name": "python",
   "nbconvert_exporter": "python",
   "pygments_lexer": "ipython3",
   "version": "3.10.9"
  }
 },
 "nbformat": 4,
 "nbformat_minor": 5
}
